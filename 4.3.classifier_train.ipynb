{
  "cells": [
    {
      "cell_type": "markdown",
      "metadata": {
        "id": "dJ8-zW_yJ279"
      },
      "source": [
        "[![Open In Colab](https://colab.research.google.com/assets/colab-badge.svg)](https://colab.research.google.com/github/Denis-R-V/TSR/blob/main/4.3.classifier_train.ipynb)"
      ]
    },
    {
      "cell_type": "markdown",
      "metadata": {
        "id": "5xtJ8o7tJ27-"
      },
      "source": [
        "# Система распознавания дорожных знаков на датасете RTSD\n",
        "## Обучение классификатора\n",
        "Клиссификатор классифицирует дорожные знаки, которые обнаружил детектор"
      ]
    },
    {
      "cell_type": "code",
      "execution_count": 1,
      "metadata": {},
      "outputs": [],
      "source": [
        "colab = False\n",
        "\n",
        "if colab == True:\n",
        "    #!pip install fiftyone\n",
        "    !pip install kaggle\n",
        "\n",
        "    from google.colab import drive\n",
        "    drive.mount('/content/drive')\n",
        "    !mkdir ~/.kaggle\n",
        "    !cp /content/drive/MyDrive/kaggle.json ~/.kaggle/kaggle.json\n",
        "    \n",
        "    !mkdir data\n",
        "\n",
        "    !kaggle datasets download watchman/rtsd-dataset\n",
        "    !mkdir data/RTSD\n",
        "    !unzip -q rtsd-dataset.zip -d ./data/RTSD/\n",
        "    !rm rtsd-dataset.zip\n",
        "    !cp -r data/RTSD/rtsd-frames/rtsd-frames/ data/RTSD\n",
        "    !rm -r data/RTSD/rtsd-frames/rtsd-frames/\n",
        "    \n",
        "    !kaggle datasets download meowmeowmeowmeowmeow/gtsrb-german-traffic-sign\n",
        "    !mkdir data/GTSRB\n",
        "    !unzip -q gtsrb-german-traffic-sign.zip -d ./data/GTSRB/\n",
        "    !rm gtsrb-german-traffic-sign.zip\n",
        "\n",
        "    !kaggle datasets download mahadevkonar/belgiumts-dataset\n",
        "    !mkdir data/BelgiumTS\n",
        "    !unzip -q belgiumts-dataset.zip -d .data/BelgiumTS/\n",
        "    !rm belgiumts-dataset.zip\n",
        "\n",
        "    !kaggle datasets download dmitryyemelyanov/chinese-traffic-signs\n",
        "    !mkdir data/ChineseTS\n",
        "    !unzip -q chinese-traffic-signs.zip -d ./data/ChineseTS/\n",
        "    !rm chinese-traffic-signs.zip"
      ]
    },
    {
      "cell_type": "code",
      "execution_count": 70,
      "metadata": {},
      "outputs": [],
      "source": [
        "import json\n",
        "import os\n",
        "import time\n",
        "import random\n",
        "import numpy as np\n",
        "import pandas as pd \n",
        "\n",
        "#import cv2\n",
        "from PIL import Image\n",
        "#import matplotlib\n",
        "#matplotlib.rcParams.update({'figure.figsize': (16, 12), 'font.size': 14})\n",
        "import matplotlib.pyplot as plt\n",
        "#import matplotlib.patches as patches\n",
        "%matplotlib inline\n",
        "from IPython.display import clear_output\n",
        "\n",
        "#from pycocotools.coco import COCO\n",
        "\n",
        "import torch\n",
        "import torch.nn as nn\n",
        "from torch.utils.data import Dataset, DataLoader\n",
        "#from torch.utils.data.sampler import SubsetRandomSampler\n",
        "\n",
        "import torchvision\n",
        "#from torchvision import models\n",
        "import torchvision.transforms as transforms\n",
        "from torchvision.models import resnet50, resnet152\n",
        "\n",
        "import albumentations as A\n",
        "from albumentations.pytorch.transforms import ToTensorV2\n",
        "\n",
        "from sklearn import metrics"
      ]
    },
    {
      "cell_type": "markdown",
      "metadata": {},
      "source": [
        "### Пути и параметры"
      ]
    },
    {
      "cell_type": "code",
      "execution_count": 3,
      "metadata": {},
      "outputs": [
        {
          "name": "stdout",
          "output_type": "stream",
          "text": [
            "NVIDIA GeForce RTX 3090\n"
          ]
        }
      ],
      "source": [
        "checkpoints_path = 'checkpoints' if colab == False else '../content/drive/MyDrive/TSR/checkpoints'\n",
        "saved_data_path  = 'data' if colab == False else '../content/drive/MyDrive/TSR/data'\n",
        "\n",
        "bg_samples_val = 300        # количество экземпляров класса background на валидации\n",
        "batch_size = 32\n",
        "num_classes = 156\n",
        "\n",
        "device = torch.device('cuda' if torch.cuda.is_available() else 'cpu')\n",
        "print(torch.cuda.get_device_name(0) if device.type == 'cuda' else device.type)"
      ]
    },
    {
      "cell_type": "markdown",
      "metadata": {},
      "source": [
        "### Загрузчик данных"
      ]
    },
    {
      "cell_type": "code",
      "execution_count": 4,
      "metadata": {},
      "outputs": [],
      "source": [
        "'''# Удаление категорий с количеством знаков меньше порога\n",
        "sign_threshold = 10\n",
        "filt = lambda x: x.sign.count() > sign_threshold\n",
        "RTSD_train_exp_lim = RTSD_train_exp.groupby('category_id').filter(filt)\n",
        "\n",
        "print(\"Количество уникальных категорий: {}\".format(len(RTSD_train_exp.category_id.unique())))\n",
        "RTSD_train_exp_lim''';"
      ]
    },
    {
      "cell_type": "code",
      "execution_count": 5,
      "metadata": {},
      "outputs": [],
      "source": [
        "class dataset_for_classifier(Dataset):\n",
        "    '''\n",
        "    Класс объединяет объекты датасетов с аннотацией в формате COCO в один датасет\n",
        "    При обращении к объекту он кадрируется по ограничивающей рамке\n",
        "   \n",
        "    параметры:\n",
        "    images_anno_paths - список кортежей или списков с путями к изображениям и путями к аннотациям\n",
        "    transforms        - набор преобразований изображения (аугментации, преобразование в тензор)\n",
        "    samples_in_class  - при задании значения берется заданное количество экземплров класса\n",
        "    bbox_expand_perc  - процент, на который увеличивается ограничивающая рамка знака\n",
        "    bbox_expand_pixel - минимальное количество пикселей, на которое увеличивается ограничивающая рамка знака\n",
        "    '''\n",
        "    def __init__(self, images_anno_paths, transforms, samples_in_class=None,\n",
        "                 bbox_expand_perc=None, bbox_expand_pixel=None):\n",
        "        super().__init__()\n",
        "        \n",
        "        self.anno = self.make_anno_list(images_anno_paths)\n",
        "        #self.anno = self.make_anno_df(images_anno_paths)\n",
        "        \n",
        "        # балансировка классов равным количество сэмплов\n",
        "        if samples_in_class is not None:\n",
        "            self.data_sampling(samples_in_class)\n",
        "\n",
        "        self.transforms = transforms\n",
        "        self.bbox_expand_perc = bbox_expand_perc/100 if bbox_expand_perc is not None else 0\n",
        "        self.bbox_expand_pixel = bbox_expand_pixel if bbox_expand_pixel is not None else 0\n",
        "\n",
        "    def __len__(self):      \n",
        "        return len(self.anno)\n",
        "\n",
        "    def __getitem__(self, index):\n",
        "        \n",
        "        if type(self.anno).__name__ == 'list':\n",
        "            img_name = self.anno[index]['file_name']\n",
        "            bbox = self.anno[index]['bbox']\n",
        "            if (self.bbox_expand_perc !=0) or (self.bbox_expand_pixel !=0):\n",
        "                width = self.anno[index]['width']\n",
        "                height = self.anno[index]['height']\n",
        "                bbox = self.expand_bbox(bbox, width, height)\n",
        "            label = torch.tensor(self.anno[index]['category_id'])\n",
        "        else:\n",
        "            img_name = self.anno.at[index,'file_name']\n",
        "            bbox = self.anno.at[index,'bbox']\n",
        "            if (self.bbox_expand_perc is not None) or (self.bbox_expand_pixel is not None):\n",
        "                width = self.anno.at[index,'width']\n",
        "                height = self.anno.at[index,'height']\n",
        "                bbox = self.expand_bbox(bbox, width, height)\n",
        "            label = torch.tensor(self.anno.at[index,'category_id'])\n",
        "\n",
        "        # Загрузка изображения\n",
        "        #img = cv2.imread(os.path.join(self.root, path))\n",
        "        #img = cv2.cvtColor(img, cv2.COLOR_BGR2RGB)\n",
        "        \n",
        "        # загрузка с помощью PIL оказалась быстрее, чем с помощью OpenCV\n",
        "        img = Image.open(img_name)\n",
        "        img = img.crop(bbox)\n",
        "        \n",
        "        img = self.transform(img)\n",
        "\n",
        "        return {'images':img, 'labels':label}\n",
        "    \n",
        "    def make_anno_list(self, images_anno_paths):\n",
        "\n",
        "        new_anno = []\n",
        "        id=0                            # новый ID аннотации (нумерация сквозная)\n",
        "        \n",
        "        # для каждого файла аннотации в списке аннотаций\n",
        "        for images_path, anno_path in images_anno_paths:\n",
        "            \n",
        "            # загрузка аннотации\n",
        "            with open(anno_path, 'r') as read_file:\n",
        "                anno = json.load(read_file)\n",
        "\n",
        "            # аннотации изображений для более быстрого поиска по ID\n",
        "            images_anno = {item['id']:item for item in anno['images']}\n",
        "            # аннотации категорий для более быстрого поиска по ID\n",
        "            categories_anno = {item['id']:item for item in anno['categories']}\n",
        "            \n",
        "            for annotation in anno.get('annotations'):\n",
        "                \n",
        "                sample = {}\n",
        "                sample['id'] = id\n",
        "                \n",
        "                image_id = annotation['image_id']\n",
        "                anno_image = images_anno[image_id]\n",
        "                sample['file_name'] = os.path.join(images_path, anno_image['file_name'])\n",
        "                sample['width'] = anno_image['width']\n",
        "                sample['height'] = anno_image['height']\n",
        "\n",
        "                x1, y1, w, h = annotation['bbox']\n",
        "                sample['bbox'] = [round(x1), round(y1), round(x1+w), round(y1+h)]\n",
        "\n",
        "                category_id = annotation['category_id']\n",
        "                sample['category_id'] = category_id\n",
        "                if category_id==0:\n",
        "                    sample['category_name'] = 'background'\n",
        "                else:\n",
        "                    sample['category_name'] = categories_anno[category_id]['name']\n",
        "                \n",
        "                new_anno.append(sample)\n",
        "                id+=1\n",
        "        \n",
        "        return new_anno\n",
        "    \n",
        "    def make_anno_df(self, images_anno_paths):\n",
        "\n",
        "        # для каждого файла аннотации в списке аннотаций\n",
        "        for images_path, anno_path in images_anno_paths:\n",
        "            \n",
        "            # загрузка аннотации\n",
        "            with open(anno_path, 'r') as read_file:\n",
        "                anno = json.load(read_file)\n",
        "\n",
        "            # Загрузка аннотаций в датафрейм\n",
        "            df_anno = pd.DataFrame(anno.get('annotations')) \n",
        "            \n",
        "            # преобразование столбца bbox из формата COCO (x1, y1, w, h) в формат (x1, y1, x2, y2) и округление\n",
        "            df_anno['bbox'] = df_anno['bbox'].apply(lambda x: [round(x[0]), round(x[1]), round(x[0] + x[2]), round(x[1] + x[3])])\n",
        "\n",
        "            # Добавление путей к файлам\n",
        "            \n",
        "            df_images = pd.DataFrame(anno.get('images'))\n",
        "            df_images['file_name'] = df_images['file_name'].apply(lambda x: os.path.join(images_path, x))\n",
        "            df_anno = df_anno.merge(df_images, left_on='image_id', right_on='id')\n",
        "            \n",
        "            # Добавление имен категорий (кодов знаков)\n",
        "            df_category = pd.DataFrame(anno.get('categories'))\n",
        "            df_anno = df_anno.merge(df_category, left_on='category_id', right_on='id')[['file_name','width','height',\n",
        "                                                                                          'bbox','category_id','name']]\n",
        "            df_anno.rename(columns={'name':'category_name'}, inplace=True)\n",
        "            \n",
        "            # конкатенируем полученный датасет с общим датасетом\n",
        "            try:\n",
        "                new_anno = pd.concat((new_anno, df_anno), ignore_index=True)    \n",
        "            except:      # если общего датасета еще нет - присваиваем ему полученный датасет\n",
        "                new_anno = df_anno\n",
        "\n",
        "        return new_anno\n",
        "    \n",
        "    def data_sampling(self, samples_in_class):\n",
        "        if type(self.anno).__name__ == 'list':\n",
        "            new_anno = []\n",
        "            id=0\n",
        "            categories = list(set([item['category_id'] for item in self.anno]))\n",
        "            for category_id in categories:\n",
        "                category_samples = [x for x in self.anno if x['category_id'] == category_id]\n",
        "                for i in range(samples_in_class):\n",
        "                    sample = random.choice(category_samples)\n",
        "                    sample['id'] = id\n",
        "                    new_anno.append(sample)\n",
        "                    id+=1\n",
        "                    \n",
        "            self.anno = new_anno\n",
        "\n",
        "        else:\n",
        "            self.anno = self.anno.groupby('category_id', group_keys= False).apply(lambda x: x.sample(samples_in_class, replace=True))\n",
        "            self.anno.reset_index(inplace=True)\n",
        "            del self.anno['index']\n",
        "\n",
        "    def expand_bbox(self, bbox, width, height):\n",
        "        sign_w = bbox[2] - bbox[0]          # ширина знака\n",
        "        sign_h = bbox[3] - bbox[1]          # высота знака\n",
        "        \n",
        "        # новые границы шире на bbox_expand_perc процентов, но не менее, чем на bbox_expand_pixel пикселей\n",
        "        x1 = max(bbox[0] - round(max((sign_w*self.bbox_expand_perc), self.bbox_expand_pixel)), 0)\n",
        "        y1 = max(bbox[1] - round(max((sign_h*self.bbox_expand_perc), self.bbox_expand_pixel)), 0)\n",
        "        x2 = min(bbox[2] + round(max((sign_w*self.bbox_expand_perc), self.bbox_expand_pixel)), width)\n",
        "        y2 = min(bbox[3] + round(max((sign_h*self.bbox_expand_perc), self.bbox_expand_pixel)), height)\n",
        "        new_bbox = [x1, y1, x2, y2]\n",
        "\n",
        "        return new_bbox\n",
        "    \n",
        "    def transform(self, img):\n",
        "        if self.transforms.__module__ == 'torchvision.transforms.transforms':\n",
        "            img = self.transforms(img)\n",
        "        else:\n",
        "            img = (self.transforms(image=np.array(img))['image'])/255\n",
        "        return img"
      ]
    },
    {
      "cell_type": "code",
      "execution_count": 6,
      "metadata": {},
      "outputs": [],
      "source": [
        "def get_transform(augmentation_lib = 'torchvision', train=False):\n",
        "    if augmentation_lib =='torchvision':\n",
        "        if train == True:\n",
        "            return transforms.Compose([transforms.Resize((224,224)),\n",
        "                                       transforms.RandomChoice([transforms.Compose([transforms.RandomPerspective(distortion_scale=0.4,p=0.9),\n",
        "                                                                                    transforms.ToTensor()\n",
        "                                                                                    ]),\n",
        "                                                                transforms.Compose([transforms.ColorJitter(brightness=(0.4), contrast=(0.3), saturation=(0.3)),\n",
        "                                                                                    transforms.ToTensor()\n",
        "                                                                                    ]),\n",
        "                                                                transforms.Compose([transforms.RandomResizedCrop((224,224), scale=(0.85, 1)), # Случайная обрезка изображения в диапахоне 85 - 100% и resize в исходный размер\n",
        "                                                                                    transforms.ToTensor()\n",
        "                                                                                    ]),\n",
        "                                                                transforms.Compose([transforms.ToTensor(),\n",
        "                                                                                    transforms.RandomErasing(p = 0.4, scale = (0.003, 0.1)),\n",
        "                                                                                    transforms.RandomErasing(p = 0.6, scale = (0.003, 0.05)),\n",
        "                                                                                    transforms.RandomErasing(p = 0.6, scale = (0.003, 0.05)),\n",
        "                                                                                    transforms.RandomErasing(p = 0.6, scale = (0.003, 0.02)),\n",
        "                                                                                    transforms.RandomErasing(p = 0.6, scale = (0.003, 0.02)),\n",
        "                                                                                    transforms.RandomErasing(p = 0.6, scale = (0.001, 0.01)),\n",
        "                                                                                    transforms.RandomErasing(p = 0.6, scale = (0.001, 0.01)),\n",
        "                                                                                    transforms.RandomErasing(p = 0.6, scale = (0.001, 0.01)),\n",
        "                                                                                    transforms.RandomErasing(p = 0.6, scale = (0.001, 0.01)),\n",
        "                                                                                    transforms.RandomErasing(p = 0.6, scale = (0.001, 0.01)),\n",
        "                                                                                    ])        \n",
        "                                                                ])\n",
        "                                       ])\n",
        "        else:\n",
        "            return transforms.Compose([transforms.Resize((224,224)),\n",
        "                                       transforms.ToTensor(),\n",
        "                                       #transforms.Normalize([0.485, 0.456, 0.406],\n",
        "                                       #                     [0.229, 0.224, 0.225])\n",
        "                                       ])   \n",
        "    \n",
        "    elif augmentation_lib =='albumentations':\n",
        "        if train==True:\n",
        "            return A.Compose([A.augmentations.geometric.resize.Resize (224, 224, interpolation=1, always_apply=False, p=1),\n",
        "                              A.augmentations.transforms.GaussNoise (var_limit=(0.01, 0.05), mean=0, per_channel=False, always_apply=False, p=0.2),\n",
        "                              A.RandomBrightnessContrast(brightness_limit=0.3, contrast_limit=0.3, p=0.8),\n",
        "                              A.RandomFog(fog_coef_lower=0.2, fog_coef_upper=0.3, alpha_coef=0.1, p=0.05), #Туман\n",
        "                              A.RandomRain(brightness_coefficient=0.9, drop_width=1, blur_value=5, p=0.05),\n",
        "                              A.Rotate(limit=10, p=0.5),\n",
        "                              ToTensorV2(p=1.0)\n",
        "                              ])\n",
        "            \n",
        "        else:\n",
        "            return A.Compose([A.augmentations.geometric.resize.Resize (224, 224, interpolation=1, always_apply=False, p=1),\n",
        "                              ToTensorV2(p=1.0)\n",
        "                              ])"
      ]
    },
    {
      "cell_type": "code",
      "execution_count": 7,
      "metadata": {},
      "outputs": [],
      "source": [
        "def plot_sign(img, label=None):\n",
        "    img = img.permute(1, 2, 0).detach().numpy()\n",
        "    if label:\n",
        "        print(f'Метка класса: {label}')\n",
        "    fig, a = plt.subplots(1,1)\n",
        "    fig.set_size_inches(2,2)\n",
        "    a.imshow(img);"
      ]
    },
    {
      "cell_type": "markdown",
      "metadata": {},
      "source": [
        "Визуализация примера аугментации с помощью библиотеки torchvision"
      ]
    },
    {
      "cell_type": "code",
      "execution_count": 8,
      "metadata": {},
      "outputs": [
        {
          "name": "stdout",
          "output_type": "stream",
          "text": [
            "Метка класса: 1\n"
          ]
        },
        {
          "data": {
            "image/png": "[encoded data removed]",
            "text/plain": [
              "<Figure size 200x200 with 1 Axes>"
            ]
          },
          "metadata": {},
          "output_type": "display_data"
        }
      ],
      "source": [
        "test = dataset_for_classifier([(os.path.join('data', 'RTSD'), os.path.join('data', 'RTSD', 'train_anno_reduced.json'))],\n",
        "                                get_transform(augmentation_lib = 'torchvision', train=True))\n",
        "sample = test.__getitem__(2)\n",
        "plot_sign(sample['images'], sample['labels'])"
      ]
    },
    {
      "cell_type": "markdown",
      "metadata": {},
      "source": [
        "Визуализация примера аугментации с помощью библиотеки torchvision"
      ]
    },
    {
      "cell_type": "code",
      "execution_count": 9,
      "metadata": {},
      "outputs": [
        {
          "name": "stdout",
          "output_type": "stream",
          "text": [
            "Метка класса: 1\n"
          ]
        },
        {
          "data": {
            "image/png": "[encoded data removed]",
            "text/plain": [
              "<Figure size 200x200 with 1 Axes>"
            ]
          },
          "metadata": {},
          "output_type": "display_data"
        }
      ],
      "source": [
        "test = dataset_for_classifier([(os.path.join('data', 'RTSD'), os.path.join('data', 'RTSD', 'train_anno_reduced.json'))],\n",
        "                                get_transform(augmentation_lib = 'albumentations', train=True))\n",
        "sample = test.__getitem__(2)\n",
        "plot_sign(sample['images'], sample['labels'])"
      ]
    },
    {
      "cell_type": "code",
      "execution_count": 10,
      "metadata": {},
      "outputs": [],
      "source": [
        "train_dataset = dataset_for_classifier([(os.path.join('data', 'RTSD'), os.path.join(saved_data_path, 'train_anno_reduced_background.json')),\n",
        "                                        (os.path.join('data', 'RTSD'), os.path.join('data', 'RTSD', 'train_anno.json')),\n",
        "                                        (os.path.join('data', 'GTSRB'), os.path.join(saved_data_path, 'GTSRB_train_anno.json')),\n",
        "                                        (os.path.join('data', 'GTSRB'), os.path.join(saved_data_path, 'GTSRB_test_anno.json')),\n",
        "                                        (os.path.join('data', 'BelgiumTS'), os.path.join(saved_data_path, 'BelgiumTS_train_anno.json')),\n",
        "                                        (os.path.join('data', 'BelgiumTS'), os.path.join(saved_data_path, 'BelgiumTS_test_anno.json')),\n",
        "                                        (os.path.join('data', 'ChineseTS'), os.path.join(saved_data_path, 'ChineseTS_anno.json')),\n",
        "                                        ],\n",
        "                                        get_transform(augmentation_lib = 'torchvision', train=True))\n",
        "\n",
        "# Ограничим количество экземпляров класса background для валидационной выборки\n",
        "with open(os.path.join(saved_data_path, 'val_anno_background.json'), 'r') as read_file:\n",
        "    RTSD_val_anno_background_short = json.load(read_file)\n",
        "RTSD_val_anno_background_short['annotations'] = random.choices(RTSD_val_anno_background_short['annotations'], k=bg_samples_val)\n",
        "with open(os.path.join(saved_data_path, 'val_anno_background_short.json'), 'w') as f:\n",
        "    json.dump(RTSD_val_anno_background_short, f)#, cls=NpEncoder)\n",
        "\n",
        "val_dataset = dataset_for_classifier([(os.path.join('data', 'RTSD'), os.path.join(saved_data_path, 'val_anno_background_short.json')),\n",
        "                                      (os.path.join('data', 'RTSD'), os.path.join('data', 'RTSD', 'val_anno.json'))\n",
        "                                      ],\n",
        "                                      get_transform(augmentation_lib = 'torchvision', train=False))"
      ]
    },
    {
      "cell_type": "code",
      "execution_count": 78,
      "metadata": {},
      "outputs": [],
      "source": [
        "# для эксперимента\n",
        "\n",
        "\n",
        "train_dataset = dataset_for_classifier([#(os.path.join('data', 'RTSD'), os.path.join(saved_data_path, 'train_anno_reduced_background.json')),\n",
        "                                        (os.path.join('data', 'RTSD'), os.path.join('data', 'RTSD', 'train_anno_reduced.json'))],\n",
        "                                        get_transform(augmentation_lib = 'torchvision', train=True))\n",
        "\n",
        "val_dataset = dataset_for_classifier([#(os.path.join('data', 'RTSD'), os.path.join(saved_data_path, 'val_anno_background_short.json')),\n",
        "                                      (os.path.join('data', 'RTSD'), os.path.join('data', 'RTSD', 'val_anno.json'))\n",
        "                                      ],\n",
        "                                      get_transform(augmentation_lib = 'torchvision', train=False))"
      ]
    },
    {
      "cell_type": "markdown",
      "metadata": {
        "id": "J90qxR2RJ28Z"
      },
      "source": [
        "### Формирование батча"
      ]
    },
    {
      "cell_type": "code",
      "execution_count": 79,
      "metadata": {},
      "outputs": [],
      "source": [
        "# для примера\n",
        "batch_size = 64"
      ]
    },
    {
      "cell_type": "code",
      "execution_count": 80,
      "metadata": {},
      "outputs": [],
      "source": [
        "train_data_loader = DataLoader(train_dataset,\n",
        "                               #sampler=SubsetRandomSampler(),\n",
        "                               batch_size=batch_size,\n",
        "                               shuffle=True,\n",
        "                               #collate_fn=collate_fn\n",
        "                               )\n",
        "\n",
        "val_data_loader = DataLoader(val_dataset,\n",
        "                             #sampler=SubsetRandomSampler(),\n",
        "                             batch_size=batch_size,\n",
        "                             shuffle=False,\n",
        "                             #collate_fn=collate_fn\n",
        "                             )"
      ]
    },
    {
      "cell_type": "markdown",
      "metadata": {},
      "source": [
        "### Параметры модели и обучения"
      ]
    },
    {
      "cell_type": "code",
      "execution_count": 81,
      "metadata": {
        "id": "CI7vlkQPJ28Z"
      },
      "outputs": [],
      "source": [
        "#model_name = 'resnet152_bg100_tvs_full_colorjitter_04_03_03_resizedcrop_085_1_erasing_adam_001'\n",
        "#model_name = 'resnet152_bg100_tvs_randomchoice_perspective_colorjitter_resizedcrop_erasing_adam_001'\n",
        "#model_name = 'resnet152_bg100_alb_full_brightnesscontrast_03_03_p08_fog_p005_rain_p005_rotate_10_p05_adam_001'\n",
        "#model_name = 'resnet152_sampled_full_tvs_adam_001'\n",
        "#model_name = 'resnet152_add_signs_bg100_tvs_randomchoice_perspective_colorjitter_resizedcrop_erasing_adam_001_sh_10_06'\n",
        "#model_name = 'resnet152_add_signs_sampled_bg100_alb_full_brightnesscontrast_03_03_p08_fog_p005_rain_p005_gaussnoise_001_02_p02_rotate_10_p05_adam_001'\n",
        "#model_name = 'resnet152_bg100_alb_full_brightnesscontrast_03_03_p08_fog_p005_rain_p005_gaussnoise_001_02_p03_rotate_10_p05_adam_001'\n",
        "\n",
        "model_name = 'resnet152_add_signs_bg300_tvs_randomchoice_perspective_colorjitter_resizedcrop_erasing_adam_001_amsgrad'\n",
        "\n",
        "\n",
        "model_name = 'resnet18_add_signs_bg300_tvs_randomchoice_perspective_colorjitter_resizedcrop_erasing_adam_001_amsgrad'           # для эксперимента\n",
        "\n",
        "last_epoch = None\n",
        "n_epochs = 10"
      ]
    },
    {
      "cell_type": "markdown",
      "metadata": {
        "id": "Xo40ASBXJ28Z"
      },
      "source": [
        "### Инициализация модели, задание оптимизатора и функции потерь"
      ]
    },
    {
      "cell_type": "code",
      "execution_count": 82,
      "metadata": {
        "id": "TNQ4zYcHtHId"
      },
      "outputs": [],
      "source": [
        "def create_model(model_name, num_classes):\n",
        "    \n",
        "    if 'resnet152' in model_name.lower():\n",
        "        model = resnet152(weights='ResNet152_Weights.IMAGENET1K_V2')\n",
        "    elif 'resnet50' in model_name.lower():\n",
        "        model = resnet50(weights='ResNet50_Weights.IMAGENET1K_V2')\n",
        "    elif 'resnet18' in model_name.lower():\n",
        "        model = torchvision.models.resnet18(weights='ResNet18_Weights.IMAGENET1K_V1')    \n",
        "    else:\n",
        "        print(\"Неверно указано название классификатора\")\n",
        "        return None\n",
        "    \n",
        "    for param in model.parameters():\n",
        "        param.requires_grad = False\n",
        "        \n",
        "    model.fc = nn.Linear(model.fc.in_features, num_classes)\n",
        "    for param in model.fc.parameters():\n",
        "        param.requires_grad = True\n",
        "\n",
        "    return model.to(device)"
      ]
    },
    {
      "cell_type": "code",
      "execution_count": 119,
      "metadata": {},
      "outputs": [],
      "source": [
        "model = create_model(model_name, num_classes)\n",
        "\n",
        "loss_function = nn.CrossEntropyLoss()\n",
        "\n",
        "# parameters\n",
        "params = [p for p in model.parameters() if p.requires_grad]\n",
        "# optimizer\n",
        "#optimizer = torch.optim.SGD(params, lr=0.001, momentum=0.9, weight_decay=0.0005)\n",
        "#optimizer = torch.optim.SGD(model.parameters(), lr=1e-3, momentum=0.9, weight_decay=0.0005)\n",
        "#optimizer = torch.optim.SGD(params, lr=0.005, momentum=0.9, weight_decay=0.0005)\n",
        "#optimizer = torch.optim.Adam(model.parameters(), lr = 0.001)\n",
        "#optimizer = torch.optim.Adam(model.parameters(), lr=1e-4, weight_decay=0.0005)\n",
        "optimizer = torch.optim.Adam(model.parameters(), amsgrad=True, lr=1.0e-3)#, weight_decay=1e-5)  # amsgrad=True\n",
        "\n",
        "# a learning rate scheduler\n",
        "#lr_scheduler = torch.optim.lr_scheduler.StepLR(optimizer, step_size=1, gamma=0.9)\n",
        "#lr_scheduler = torch.optim.lr_scheduler.StepLR(optimizer, step_size=10, gamma=0.6)\n",
        "#lr_scheduler = torch.optim.lr_scheduler.StepLR(optimizer, step_size=3, gamma=0.1)\n",
        "# Decay LR by a factor of 0.1 every 7 epochs\n",
        "lr_scheduler = torch.optim.lr_scheduler.StepLR(optimizer, step_size=7, gamma=0.1)\n",
        "\n",
        "# Загрузка весов модели, состояния оптимизатора и шедулера, если продолжаем обучение с чекпойнта\n",
        "if last_epoch is not None:\n",
        "    checkpoint = torch.load(os.path.join(checkpoints_path, f'chkpt_classifier_{model_name}_{last_epoch}.pth'), map_location=device)\n",
        "    model.load_state_dict(checkpoint['model_state_dict'])\n",
        "    optimizer.load_state_dict(checkpoint['optimizer_state_dict'])\n",
        "    if 'lr_scheduler' in locals():\n",
        "        lr_scheduler.load_state_dict(checkpoint['lr_scheduler_state_dict'])"
      ]
    },
    {
      "cell_type": "markdown",
      "metadata": {},
      "source": [
        "Train looooop"
      ]
    },
    {
      "cell_type": "code",
      "execution_count": 120,
      "metadata": {},
      "outputs": [],
      "source": [
        "def train(train_dataloader, epoch, plot=False, train_loss_history=None, valid_loss_history=None, \n",
        "          train_accuracy_history=None, valid_accuracy_history=None,\n",
        "          train_f1_micro_history=None, valid_f1_micro_history=None,\n",
        "          train_f1_macro_history=None, valid_f1_macro_history=None): \n",
        "    \n",
        "    model.train()\n",
        "\n",
        "    len_dataloader = len(train_dataloader)\n",
        "    running_loss = 0\n",
        "    current_loss_history = []\n",
        "\n",
        "    # для текущего accuracy\n",
        "    correct = 0.0\n",
        "    total = 0.0\n",
        "    \n",
        "    # для вывода метрик\n",
        "    y_true = []\n",
        "    y_pred = []\n",
        "\n",
        "    for batch_idx, batch in enumerate(train_dataloader):\n",
        "        optimizer.zero_grad()\n",
        "        images = batch['images'].to(device)\n",
        "        targets = batch['labels'].to(device)\n",
        "\n",
        "        output = model(images)\n",
        "        loss = loss_function(output, targets)\n",
        "        running_loss+=loss.item()\n",
        "        current_loss_history.append(loss.item())  \n",
        "        \n",
        "        loss.backward()\n",
        "        optimizer.step()   \n",
        "        \n",
        "        # вариант со средним running loss\n",
        "        '''running_loss = running_loss + ((1/(batch_idx+1))*(loss.data-running_loss))                   более правильное        дополнить усреднением\n",
        "        if batch_idx%5 == 0:\n",
        "            print(f\"Batch Id {batch_idx}/{len_dataloader} is having training loss of {running_loss}\")\n",
        "            print(f\"Epoch #{epoch}. Accuracy on batch {batch_idx}/{len_dataloader}  on Training is {(100*correct/total)}\")'''\n",
        "\n",
        "        pred = output.data.max(1,keepdim=True)[1]\n",
        "\n",
        "        # для текущего accuracy\n",
        "        correct += np.sum(np.squeeze(pred.eq(targets.data.view_as(pred))).cpu().numpy())\n",
        "        total += images.size(0)\n",
        "        \n",
        "        # для вывода метрик\n",
        "        y_true.extend([int(item) for item in targets])\n",
        "        y_pred.extend([int(item) for item in pred])\n",
        "\n",
        "        train_loss = running_loss/len(train_dataloader.dataset)\n",
        "        train_accuracy = metrics.accuracy_score(y_true, y_pred)\n",
        "        train_f1_micro = metrics.f1_score(y_true, y_pred, average=\"micro\")\n",
        "        train_f1_macro =  metrics.f1_score(y_true, y_pred, average=\"macro\")\n",
        "        train_f1_weighted = metrics.f1_score(y_true, y_pred, average=\"weighted\")\n",
        "\n",
        "        if plot == True:\n",
        "        \n",
        "            # Рисуем график\n",
        "            if (batch_idx+1)%10==0:\n",
        "                \n",
        "                fig, ax = plt.subplots(nrows=2, ncols=2, figsize=(14, 10))\n",
        "                \n",
        "                clear_output(True)           \n",
        "                ax[0,0].plot(current_loss_history, label='train loss')\n",
        "                ax[0,0].set_xlabel('Batch')\n",
        "                ax[0,0].set_title(f'Train loss current epoch')\n",
        "                \n",
        "                if train_loss_history is not None:\n",
        "                    ax[0,1].plot(train_loss_history, label='Train')\n",
        "                if valid_loss_history is not None:\n",
        "                    ax[0,1].plot(valid_loss_history, label='Valid')\n",
        "                if (train_loss_history is not None) or (valid_loss_history is not None):\n",
        "                    ax[0,1].set_xlabel('Epoch')\n",
        "                    ax[0,1].set_title('General loss history')\n",
        "                    ax[0,1].legend()\n",
        "\n",
        "                if train_accuracy_history is not None:\n",
        "                    ax[1,0].plot(train_loss_history, label='Train')\n",
        "                if valid_accuracy_history is not None:\n",
        "                    ax[1,0].plot(valid_loss_history, label='Valid')\n",
        "                if (train_accuracy_history is not None) or (valid_accuracy_history is not None):\n",
        "                    ax[1,0].set_xlabel('Epoch')\n",
        "                    ax[1,0].set_title('General accuracy history')\n",
        "                    ax[1,0].legend()\n",
        "\n",
        "                if train_f1_micro_history is not None:\n",
        "                    ax[1,1].plot(train_f1_micro_history, label='Train F1 micro')\n",
        "                if valid_f1_micro_history is not None:\n",
        "                    ax[1,1].plot(valid_f1_micro_history, label='Valid F1 micro')\n",
        "                if train_f1_macro_history is not None:\n",
        "                    ax[1,1].plot(train_f1_macro_history, label='Train F1 macro')\n",
        "                if valid_f1_macro_history is not None:\n",
        "                    ax[1,1].plot(valid_f1_macro_history, label='Valid F1 macro')\n",
        "                if (train_f1_micro_history is not None) or (valid_f1_micro_history is not None) or \\\n",
        "                   (train_f1_macro_history is not None) or (valid_f1_macro_history is not None):\n",
        "                    ax[1,1].set_xlabel('Epoch')\n",
        "                    ax[1,1].set_title('General F1 history')\n",
        "                    ax[1,1].legend()\n",
        "                \n",
        "                plt.show()\n",
        "\n",
        "        else:\n",
        "            if batch_idx%5 == 0:       #50\n",
        "                print(f\"\\tEpoch: {epoch:02}. Iteration: {batch_idx}/{len_dataloader}. Train loss: {loss:.3f}. Train accuracy: {(100*correct/total):.2f}\", end='\\r')\n",
        "    \n",
        "    train_loss = running_loss/len(train_dataloader.dataset)\n",
        "    \n",
        "    return train_loss, train_accuracy, train_f1_micro, train_f1_macro, train_f1_weighted\n",
        "\n",
        "#train(train_data_loader, 0)"
      ]
    },
    {
      "cell_type": "code",
      "execution_count": 121,
      "metadata": {},
      "outputs": [],
      "source": [
        "def evaluate(val_dataloader, epoch, plot=False):\n",
        "\n",
        "    model.eval()\n",
        "\n",
        "    len_dataloader = len(val_dataloader)\n",
        "    running_loss = 0\n",
        "    current_loss_history = []\n",
        "\n",
        "    # для текущего accuracy\n",
        "    correct = 0.0\n",
        "    total = 0.0\n",
        "    \n",
        "    # для вывода метрик\n",
        "    y_true = []\n",
        "    y_pred = []\n",
        "    \n",
        "    for batch_idx, data in enumerate(val_dataloader):\n",
        "        optimizer.zero_grad()\n",
        "\n",
        "        images = data['images'].to(device)\n",
        "        targets = data['labels'].to(device)\n",
        "\n",
        "        with torch.no_grad():\n",
        "            output = model(images)\n",
        "            loss = loss_function(output, targets)\n",
        "        running_loss+=loss.item()                       # подумать над усреднением\n",
        "        current_loss_history.append(loss.item())                        # пойдет для построения графика\n",
        "\n",
        "        # вариант со средним running loss\n",
        "        '''running_loss = running_loss + ((1/(batch_idx+1))*(loss.data-running_loss))\n",
        "        if batch_idx%5 == 0:\n",
        "            print(f\"Batch Id {batch_idx}/{len_dataloader} is having training loss of {running_loss}\")\n",
        "            print(f\"Epoch #{epoch}. Accuracy on batch {batch_idx}/{len_dataloader}  on Training is {(100*correct/total)}\")'''\n",
        "\n",
        "        pred = output.data.max(1,keepdim=True)[1]\n",
        "\n",
        "        # для текущего accuracy\n",
        "        correct += np.sum(np.squeeze(pred.eq(targets.data.view_as(pred))).cpu().numpy())\n",
        "        total += images.size(0)\n",
        "        \n",
        "        # для вывода метрик\n",
        "        y_true.extend([int(item) for item in targets])\n",
        "        y_pred.extend([int(item) for item in pred])\n",
        "\n",
        "        val_loss = running_loss/len(val_dataloader.dataset)\n",
        "        val_accuracy = metrics.accuracy_score(y_true, y_pred)\n",
        "        val_f1_micro = metrics.f1_score(y_true, y_pred, average=\"micro\")\n",
        "        val_f1_macro =  metrics.f1_score(y_true, y_pred, average=\"macro\")\n",
        "        val_f1_weighted = metrics.f1_score(y_true, y_pred, average=\"weighted\")\n",
        "\n",
        "        if plot == False:\n",
        "            if batch_idx % 5 == 0:         # 50\n",
        "                print(f\"\\tEpoch: {epoch:02}. Iteration: {batch_idx}/{len_dataloader}. Valid loss: {loss:.3f}. Valid accuracy: {(100*correct/total):.2f}\", end='\\r')\n",
        "    val_loss = running_loss/len(val_dataloader.dataset)\n",
        "    \n",
        "    return val_loss, val_accuracy, val_f1_micro, val_f1_macro, val_f1_weighted \n",
        "\n",
        "#evaluate(val_data_loader, 0, plot=False)"
      ]
    },
    {
      "cell_type": "code",
      "execution_count": 122,
      "metadata": {},
      "outputs": [],
      "source": [
        "def epoch_time(start_time, end_time):\n",
        "    elapsed_time = end_time - start_time\n",
        "    elapsed_mins = int(elapsed_time / 60)\n",
        "    elapsed_secs = int(elapsed_time - (elapsed_mins * 60))\n",
        "    return elapsed_mins, elapsed_secs"
      ]
    },
    {
      "cell_type": "code",
      "execution_count": 123,
      "metadata": {},
      "outputs": [],
      "source": [
        "def train_eval_loop(model, model_name, train_dataloader, val_dataloader, last_epoch=None, n_epochs=10, plot=False, save_all_epochs=False):\n",
        "\n",
        "    # эпоха, с которой начинается обучение\n",
        "    start_epoch = last_epoch+1 if last_epoch is not None else 0\n",
        "    \n",
        "    # Загрузка словарей с лоссами и метриками\n",
        "    train_losses       = checkpoint['losses_train']      if last_epoch is not None else []\n",
        "    val_losses         = checkpoint['losses_val']        if last_epoch is not None else []\n",
        "    train_accuracies   = checkpoint['accuracies_train']  if last_epoch is not None else []\n",
        "    val_accuracies     = checkpoint['accuracies_val']    if last_epoch is not None else []\n",
        "    train_f1_micros    = checkpoint['train_f1_micro']    if last_epoch is not None else []\n",
        "    val_f1_micros      = checkpoint['val_f1_micro']      if last_epoch is not None else []\n",
        "    train_f1_macros    = checkpoint['train_f1_macro']    if last_epoch is not None else []\n",
        "    val_f1_macros      = checkpoint['val_f1_macro']      if last_epoch is not None else []\n",
        "    train_f1_weighteds = checkpoint['train_f1_weighted'] if last_epoch is not None else []\n",
        "    val_f1_weighteds   = checkpoint['val_f1_weighted']   if last_epoch is not None else []    \n",
        "\n",
        "    for epoch in range(start_epoch, n_epochs):\n",
        "\n",
        "        try:\n",
        "            start_time = time.time()\n",
        "\n",
        "            train_dataloader = DataLoader(train_dataset,\n",
        "                                        batch_size=batch_size,\n",
        "                                        shuffle=True)\n",
        "\n",
        "            train_loss, train_accuracy, train_f1_micro, train_f1_macro, train_f1_weighted = train(train_dataloader, epoch, plot, train_losses, val_losses,\n",
        "                                                                                                  train_accuracies, val_accuracies, train_f1_micros, val_f1_micros,\n",
        "                                                                                                  train_f1_macros, val_f1_macros)\n",
        "            \n",
        "            val_loss, val_accuracy, val_f1_micro, val_f1_macro, val_f1_weighted = evaluate(val_dataloader, epoch, plot)\n",
        " \n",
        "            try:\n",
        "                lr_scheduler.step()\n",
        "            except:\n",
        "                pass\n",
        "            \n",
        "            train_losses.append(train_loss)\n",
        "            val_losses.append(val_loss)\n",
        "            train_accuracies.append(train_accuracy)\n",
        "            val_accuracies.append(val_accuracy)\n",
        "            train_f1_micros.append(train_f1_micro)\n",
        "            val_f1_micros.append(val_f1_micro)\n",
        "            train_f1_macros.append(train_f1_macro)\n",
        "            val_f1_macros.append(val_f1_macro)\n",
        "            train_f1_weighteds.append(train_f1_weighted)\n",
        "            val_f1_weighteds.append(val_f1_weighted)\n",
        "            \n",
        "\n",
        "            '''torch.save({'epoch': epoch,\n",
        "                        'model_state_dict': model.state_dict(),\n",
        "                        'optimizer_state_dict': optimizer.state_dict(),\n",
        "                        #'lr_scheduler_state_dict': lr_scheduler.state_dict(),\n",
        "                        'losses_train': train_losses,\n",
        "                        'losses_val': val_losses,\n",
        "                        'accuracies_train': train_accuracies,\n",
        "                        'accuracies_val': val_accuracies,\n",
        "                        'f1_micros_train': train_f1_micros,\n",
        "                        'f1_micros_val': val_f1_micros,\n",
        "                        'f1_macros_train': train_f1_macros,\n",
        "                        'f1_macros_val': val_f1_macros,\n",
        "                        'f1_weighteds_train': train_f1_weighteds,\n",
        "                        'f1_weighteds_val': val_f1_weighteds,\n",
        "                        }, os.path.join(checkpoints_path, f'chkpt_classifier_{model_name}_{epoch}.pth'))\n",
        "        \n",
        "            torch.save(model, os.path.join(checkpoints_path, f'model_classifier_{model_name}_{epoch}.pth'))'''\n",
        "        \n",
        "            '''torch.save({\n",
        "                'epoch': epoch,\n",
        "                'model_state_dict': model.state_dict(),\n",
        "                'optimizer_state_dict': optimizer.state_dict(),\n",
        "                'lr_scheduler_state_dict': lr_scheduler.state_dict(),\n",
        "                'losses_train': train_loss_history,\n",
        "                'losses_val': valid_loss_history\n",
        "                }, os.path.join(checkpoints_path, f'chkpt_detector_{model_name}_b{batch_size}_{epoch}.pth'))\n",
        "            \n",
        "            torch.save(model, os.path.join(checkpoints_path, f'model_detector_{model_name}_b{batch_size}_{epoch}.pth'))\n",
        "\n",
        "            # дополнительное сохранение словарей лоссов в json\n",
        "            with open(os.path.join(checkpoints_path, f'losses_detector_{model_name}_b{batch_size}.json'), 'w') as fp:\n",
        "                json.dump({'losses_train':train_loss_history,\n",
        "                        'losses_val':valid_loss_history}, fp)'''\n",
        "\n",
        "            end_time = time.time()\n",
        "            epoch_mins, epoch_secs = epoch_time(start_time, end_time)\n",
        "            \n",
        "            if plot == False:\n",
        "                print(f'Epoch: {epoch:02} | Time: {epoch_mins}m {epoch_secs}s | Train loss: {train_loss:.3f} | Val loss: {val_loss:.3f}')\n",
        "\n",
        "        except KeyboardInterrupt:\n",
        "            print('Досрочно остановлено пользователем' + ' '*20)\n",
        "            break\n",
        "    return None\n",
        "\n",
        "train_eval_loop(model, model_name, train_data_loader, val_data_loader, last_epoch=None, n_epochs=10, plot=True)"
      ]
    },
    {
      "cell_type": "code",
      "execution_count": null,
      "metadata": {},
      "outputs": [],
      "source": []
    },
    {
      "cell_type": "code",
      "execution_count": null,
      "metadata": {},
      "outputs": [],
      "source": []
    },
    {
      "cell_type": "code",
      "execution_count": null,
      "metadata": {},
      "outputs": [],
      "source": []
    },
    {
      "cell_type": "code",
      "execution_count": null,
      "metadata": {},
      "outputs": [],
      "source": []
    },
    {
      "cell_type": "code",
      "execution_count": null,
      "metadata": {},
      "outputs": [],
      "source": []
    },
    {
      "cell_type": "code",
      "execution_count": null,
      "metadata": {},
      "outputs": [],
      "source": []
    },
    {
      "cell_type": "code",
      "execution_count": null,
      "metadata": {},
      "outputs": [],
      "source": []
    },
    {
      "cell_type": "code",
      "execution_count": null,
      "metadata": {},
      "outputs": [],
      "source": []
    },
    {
      "cell_type": "code",
      "execution_count": null,
      "metadata": {},
      "outputs": [],
      "source": []
    },
    {
      "cell_type": "markdown",
      "metadata": {
        "id": "2YimGoL3J28Z"
      },
      "source": [
        "### Трейн луп"
      ]
    },
    {
      "cell_type": "code",
      "execution_count": 216,
      "metadata": {},
      "outputs": [],
      "source": [
        "def train(train_dataloader, epoch): \n",
        "    len_dataloader = len(train_dataloader)\n",
        "\n",
        "    training_loss=0\n",
        "    # для текущего accuracy\n",
        "    correct = 0.0\n",
        "    total = 0.0\n",
        "    # для вывода метрик\n",
        "    y_true = []\n",
        "    y_pred = []\n",
        "\n",
        "    model.train()\n",
        "    running_loss = 0        # training_loss\n",
        "    \n",
        "    for batch_idx, data in enumerate(train_dataloader):\n",
        "        \n",
        "        \n",
        "        \n",
        "        optimizer.zero_grad()\n",
        "        #images, targets = data[0], data[1]\n",
        "        #images = images.to(device)\n",
        "        #targets = targets.to(device)\n",
        "        images = data['images'].to(device)\n",
        "        targets = data['labels'].to(device)\n",
        "        output = model(images)\n",
        "        loss = loss_function(output, targets)\n",
        "        loss.backward()\n",
        "        optimizer.step()\n",
        "       \n",
        "        running_loss = running_loss + ((1/(batch_idx+1))*(loss.data-running_loss))\n",
        "        if batch_idx%20 == 0:\n",
        "            print(f\"Batch Id {batch_idx}/{len_dataloader} is having training loss of {running_loss}\")\n",
        "            print(loss.item())\n",
        "\n",
        "        pred = output.data.max(1,keepdim=True)[1]\n",
        "\n",
        "        # для текущего accuracy\n",
        "        correct += np.sum(np.squeeze(pred.eq(targets.data.view_as(pred))).cpu().numpy())\n",
        "        total += images.size(0)\n",
        "        print(f\"Epoch #{epoch}. Accuracy on batch {batch_idx}/{len_dataloader}  on Training is {(100*correct/total)}\")\n",
        "        \n",
        "        # для вывода метрик\n",
        "        y_true.extend([int(item) for item in targets])\n",
        "        y_pred.extend([int(item) for item in pred])\n",
        "\n",
        "        #images = list(image.to(device) for image in images)\n",
        "        #targets = [{k: v.to(device) for k, v in t.items()} for t in targets]\n",
        "        #loss_dict = model(images, targets)\n",
        "        #loss = sum(loss for loss in loss_dict.values())\n",
        "        #running_loss += loss.item()\n",
        "        #loss.backward()\n",
        "        #optimizer.step()\n",
        "        #if batch_idx % 50 == 0:\n",
        "        #    print(f\"\\tЭпоха {epoch}. Итерация {batch_idx}/{len_dataloader}. Loss: {loss}\")\n",
        "    train_loss = running_loss/len(train_dataloader.dataset)\n",
        "    train_accuracy = metrics.accuracy_score(y_true, y_pred)\n",
        "    train_f1_micro = metrics.f1_score(y_true, y_pred, average=\"micro\")\n",
        "    train_f1_macro =  metrics.f1_score(y_true, y_pred, average=\"macro\")\n",
        "    train_f1_weighted = metrics.f1_score(y_true, y_pred, average=\"weighted\")\n",
        "    return train_loss, train_accuracy, train_f1_micro, train_f1_macro, train_f1_weighted"
      ]
    },
    {
      "cell_type": "code",
      "execution_count": 217,
      "metadata": {},
      "outputs": [],
      "source": [
        "def val (val_dataloader, epoch):\n",
        "    len_dataloader = len(val_dataloader)\n",
        "\n",
        "    validation_loss=0\n",
        "    # для текущего accuracy\n",
        "    correct = 0.0\n",
        "    total = 0.0\n",
        "    # для вывода метрик\n",
        "    y_true = []\n",
        "    y_pred = []\n",
        "\n",
        "    model.eval()\n",
        "\n",
        "    for batch_idx, data in enumerate(val_dataloader):\n",
        "        \n",
        "        \n",
        "        optimizer.zero_grad()\n",
        "        #images, targets = data[0], data[1]\n",
        "        #images = images.to(device)\n",
        "        #targets = targets.to(device)\n",
        "        images = data['images'].to(device)\n",
        "        targets = data['labels'].to(device)\n",
        "        #with torch.no_grad():\n",
        "            \n",
        "        output = model(images)\n",
        "        loss = loss_function(output, targets)\n",
        "        \n",
        "        validation_loss = validation_loss + ((1/(batch_idx+1))*(loss.data-validation_loss))\n",
        "        #if batch_idx%20 == 0:\n",
        "        print(f\"Epoch #{epoch}. Batch Id {batch_idx}/{len_dataloader}  is having validation loss of {validation_loss}\")\n",
        "        print(loss.item())\n",
        "        pred = output.data.max(1,keepdim=True)[1]\n",
        "\n",
        "        # для текущего accuracy\n",
        "        correct += np.sum(np.squeeze(pred.eq(targets.data.view_as(pred))).cpu().numpy())\n",
        "        total += images.size(0)\n",
        "        print(f\"Epoch #{epoch}. Batch Id {batch_idx}/{len_dataloader}  is having validation accuracy of {(100*correct/total)}\")\n",
        "\n",
        "        # для вывода метрик\n",
        "        y_true.extend([int(item) for item in targets])\n",
        "        y_pred.extend([int(item) for item in pred])\n",
        "        #images = list(image.to(device) for image in images)\n",
        "        #targets = [{k: v.to(device) for k, v in t.items()} for t in targets]\n",
        "        #loss_dict = model(images, targets)\n",
        "        #loss = sum(loss for loss in loss_dict.values())\n",
        "        #running_loss += loss.item()\n",
        "        #loss.backward()\n",
        "        #optimizer.step()\n",
        "        #if batch_idx % 50 == 0:\n",
        "        #    print(f\"\\tЭпоха {epoch}. Итерация {batch_idx}/{len_dataloader}. Loss: {loss}\")\n",
        "    val_loss = validation_loss/len(val_dataloader.dataset)\n",
        "    val_accuracy = metrics.accuracy_score(y_true, y_pred)\n",
        "    val_f1_micro = metrics.f1_score(y_true, y_pred, average=\"micro\")\n",
        "    val_f1_macro =  metrics.f1_score(y_true, y_pred, average=\"macro\")\n",
        "    val_f1_weighted = metrics.f1_score(y_true, y_pred, average=\"weighted\")\n",
        "\n",
        "\n",
        "    return val_loss, val_accuracy, val_f1_micro, val_f1_macro, val_f1_weighted"
      ]
    },
    {
      "cell_type": "code",
      "execution_count": 219,
      "metadata": {},
      "outputs": [
        {
          "name": "stdout",
          "output_type": "stream",
          "text": [
            "Batch Id 0/101 is having training loss of 5.095077037811279\n",
            "5.095077037811279\n",
            "Epoch #0. Accuracy on batch 0/101  on Training is 0.0\n",
            "Epoch #0. Accuracy on batch 1/101  on Training is 3.125\n",
            "Epoch #0. Accuracy on batch 2/101  on Training is 11.458333333333334\n",
            "Epoch #0. Accuracy on batch 3/101  on Training is 16.40625\n",
            "Epoch #0. Accuracy on batch 4/101  on Training is 18.75\n",
            "Epoch #0. Accuracy on batch 5/101  on Training is 19.791666666666668\n",
            "Epoch #0. Accuracy on batch 6/101  on Training is 20.535714285714285\n",
            "Epoch #0. Accuracy on batch 7/101  on Training is 21.875\n",
            "Epoch #0. Accuracy on batch 8/101  on Training is 20.833333333333332\n",
            "Epoch #0. Accuracy on batch 9/101  on Training is 22.1875\n",
            "Epoch #0. Accuracy on batch 10/101  on Training is 24.431818181818183\n",
            "Epoch #0. Accuracy on batch 11/101  on Training is 24.479166666666668\n",
            "Epoch #0. Accuracy on batch 12/101  on Training is 25.48076923076923\n",
            "Epoch #0. Accuracy on batch 13/101  on Training is 26.785714285714285\n",
            "Epoch #0. Accuracy on batch 14/101  on Training is 27.083333333333332\n",
            "Epoch #0. Accuracy on batch 15/101  on Training is 27.734375\n",
            "Epoch #0. Accuracy on batch 16/101  on Training is 26.654411764705884\n",
            "Epoch #0. Accuracy on batch 17/101  on Training is 26.90972222222222\n",
            "Epoch #0. Accuracy on batch 18/101  on Training is 27.30263157894737\n",
            "Epoch #0. Accuracy on batch 19/101  on Training is 27.5\n",
            "Batch Id 20/101 is having training loss of 4.464739799499512\n",
            "4.3695831298828125\n",
            "Epoch #0. Accuracy on batch 20/101  on Training is 27.678571428571427\n",
            "Epoch #0. Accuracy on batch 21/101  on Training is 27.272727272727273\n",
            "Epoch #0. Accuracy on batch 22/101  on Training is 27.445652173913043\n",
            "Epoch #0. Accuracy on batch 23/101  on Training is 27.604166666666668\n",
            "Epoch #0. Accuracy on batch 24/101  on Training is 28.5\n",
            "Epoch #0. Accuracy on batch 25/101  on Training is 28.004807692307693\n",
            "Epoch #0. Accuracy on batch 26/101  on Training is 28.35648148148148\n",
            "Epoch #0. Accuracy on batch 27/101  on Training is 28.236607142857142\n",
            "Прервано пользователем\n"
          ]
        }
      ],
      "source": [
        "# Загрузка словарей с лоссами\n",
        "train_losses       = checkpoint['losses_train']      if last_epoch is not None else []\n",
        "val_losses         = checkpoint['losses_val']        if last_epoch is not None else []\n",
        "train_accuracies   = checkpoint['accuracies_train']  if last_epoch is not None else []\n",
        "val_accuracies     = checkpoint['accuracies_val']    if last_epoch is not None else []\n",
        "train_f1_micros    = checkpoint['train_f1_micro']    if last_epoch is not None else []\n",
        "val_f1_micros      = checkpoint['val_f1_micro']      if last_epoch is not None else []\n",
        "train_f1_macros    = checkpoint['train_f1_macro']    if last_epoch is not None else []\n",
        "val_f1_macros      = checkpoint['val_f1_macro']      if last_epoch is not None else []\n",
        "train_f1_weighteds = checkpoint['train_f1_weighted'] if last_epoch is not None else []\n",
        "val_f1_weighteds   = checkpoint['val_f1_weighted']   if last_epoch is not None else []\n",
        "\n",
        "# эпоха, с которой начинается обучение\n",
        "start_epoch = last_epoch+1 if last_epoch is not None else 0\n",
        "\n",
        "try:\n",
        "    for epoch in range(start_epoch, n_epochs):\n",
        "        start = time.time()\n",
        "\n",
        "        train_data_loader = DataLoader(train_dataset,\n",
        "                                       batch_size=batch_size,\n",
        "                                       shuffle=True)\n",
        "\n",
        "        train_loss, train_accuracy, train_f1_micro, train_f1_macro, train_f1_weighted = train(train_data_loader, epoch)\n",
        "        #val_loss = 0\n",
        "        val_loss, val_accuracy, val_f1_micro, val_f1_macro, val_f1_weighted = val(val_data_loader, epoch)\n",
        "        \n",
        "        try:\n",
        "            lr_scheduler.step()\n",
        "        except:\n",
        "            pass\n",
        "        print(f\"Эпоха #{epoch} train_loss: {train_loss}, val_loss: {val_loss}\")  \n",
        "        end = time.time()\n",
        "        print(f\"Потрачено {round((end - start) / 60, 1)} минут на {epoch} эпоху\")\n",
        "        \n",
        "        train_losses.append(train_loss)\n",
        "        train_accuracies.append(train_accuracy)\n",
        "        val_accuracies.append(val_accuracy)\n",
        "        train_f1_micros.append(train_f1_micro)\n",
        "        val_f1_micros.append(val_f1_micro)\n",
        "        train_f1_macros.append(train_f1_macro)\n",
        "        val_f1_macros.append(val_f1_macro)\n",
        "        train_f1_weighteds.append(train_f1_weighted)\n",
        "        val_f1_weighteds.append(val_f1_weighted)\n",
        "        \n",
        "\n",
        "        torch.save({'epoch': epoch,\n",
        "                    'model_state_dict': model.state_dict(),\n",
        "                    'optimizer_state_dict': optimizer.state_dict(),\n",
        "                    #'lr_scheduler_state_dict': lr_scheduler.state_dict(),\n",
        "                    'losses_train': train_losses,\n",
        "                    'losses_val': val_losses,\n",
        "                    'accuracies_train': train_accuracies,\n",
        "                    'accuracies_val': val_accuracies,\n",
        "                    'f1_micros_train': train_f1_micros,\n",
        "                    'f1_micros_val': val_f1_micros,\n",
        "                    'f1_macros_train': train_f1_macros,\n",
        "                    'f1_macros_val': val_f1_macros,\n",
        "                    'f1_weighteds_train': train_f1_weighteds,\n",
        "                    'f1_weighteds_val': val_f1_weighteds,\n",
        "                    }, os.path.join(checkpoints_path, f'chkpt_classifier_{model_name}_{epoch}.pth'))\n",
        "    \n",
        "        torch.save(model, os.path.join(checkpoints_path, f'model_classifier_{model_name}_{epoch}.pth'))\n",
        "    \n",
        "except KeyboardInterrupt:\n",
        "    print('Прервано пользователем')"
      ]
    },
    {
      "cell_type": "code",
      "execution_count": 42,
      "metadata": {},
      "outputs": [
        {
          "data": {
            "image/png": "[encoded data removed]",
            "text/plain": [
              "<Figure size 640x480 with 1 Axes>"
            ]
          },
          "metadata": {},
          "output_type": "display_data"
        }
      ],
      "source": [
        "%matplotlib inline\n",
        "fig, ax = plt.subplots()\n",
        "ax.plot(train_f1_micros, label='F1_micro_train')\n",
        "ax.plot(val_f1_micros, label='F1_micro_val')\n",
        "ax.plot(train_f1_macros, label='F1_macro_train')\n",
        "ax.plot(val_f1_macros, label='F1_micro_val')\n",
        "ax.set_title(model_name)\n",
        "ax.set(xlabel='Epoch', ylabel='Loss')\n",
        "ax.legend()\n",
        "plt.show()"
      ]
    },
    {
      "cell_type": "code",
      "execution_count": null,
      "metadata": {},
      "outputs": [],
      "source": []
    },
    {
      "cell_type": "code",
      "execution_count": null,
      "metadata": {},
      "outputs": [],
      "source": []
    },
    {
      "cell_type": "code",
      "execution_count": null,
      "metadata": {},
      "outputs": [],
      "source": []
    },
    {
      "cell_type": "code",
      "execution_count": 35,
      "metadata": {},
      "outputs": [
        {
          "data": {
            "text/plain": [
              "(71, 72)"
            ]
          },
          "execution_count": 35,
          "metadata": {},
          "output_type": "execute_result"
        }
      ],
      "source": [
        "item = 13\n",
        "model.eval()\n",
        "pred = model(val_dataset.__getitem__(item)['images'].unsqueeze(0).to(device)).data.max(1,keepdim=True)[1], \n",
        "int(pred[0][0][0]), int(val_dataset.__getitem__(item)['labels'])"
      ]
    },
    {
      "cell_type": "code",
      "execution_count": 27,
      "metadata": {
        "id": "r4ln2ar7t_dK"
      },
      "outputs": [],
      "source": [
        "last_epoch = 3\n",
        "model_name = 'detector_resnet50_augmented'\n",
        "\n",
        "\n",
        "if last_epoch == None:\n",
        "    train_losses = []\n",
        "    val_losses = []\n",
        "else:\n",
        "    # Загрузка весов модели\n",
        "    checkpoint = torch.load(os.path.join(checkpoints_path, f'chkpt_{model_name}_{last_epoch}.pth'), map_location=device)\n",
        "    model.load_state_dict(checkpoint['model_state_dict'])\n",
        "    optimizer.load_state_dict(checkpoint['optimizer_state_dict'])\n",
        "    lr_scheduler.load_state_dict(checkpoint['lr_scheduler_state_dict'])\n",
        "    #epoch = checkpoint['epoch']\n",
        "    train_losses = checkpoint['losses_train']\n",
        "    val_losses = checkpoint['losses_val']"
      ]
    },
    {
      "cell_type": "code",
      "execution_count": 403,
      "metadata": {
        "id": "JYImJAxe8HWu"
      },
      "outputs": [
        {
          "data": {
            "text/plain": [
              "{'step_size': 1,\n",
              " 'gamma': 0.9,\n",
              " 'base_lrs': [0.001],\n",
              " 'last_epoch': 30,\n",
              " 'verbose': False,\n",
              " '_step_count': 31,\n",
              " '_get_lr_called_within_step': False,\n",
              " '_last_lr': [4.239115827521624e-05]}"
            ]
          },
          "execution_count": 403,
          "metadata": {},
          "output_type": "execute_result"
        }
      ],
      "source": [
        "lr_scheduler.state_dict()"
      ]
    },
    {
      "cell_type": "code",
      "execution_count": 129,
      "metadata": {
        "colab": {
          "base_uri": "https://localhost:8080/",
          "height": 279
        },
        "id": "RLL0C1078HWu",
        "outputId": "d92014cd-dea2-4e7e-ee4f-d54968066738"
      },
      "outputs": [
        {
          "data": {
            "image/png": "[encoded data removed]",
            "text/plain": [
              "<Figure size 640x480 with 1 Axes>"
            ]
          },
          "metadata": {},
          "output_type": "display_data"
        }
      ],
      "source": [
        "%matplotlib inline\n",
        "fig, ax = plt.subplots()\n",
        "ax.plot(train_accuracies, label='Train')\n",
        "ax.plot(val_accuracies, label='Val')\n",
        "ax.set_title('resnet152_add_signs_bg100_tvs_randomchoice_perspective_colorjitter_resizedcrop_erasing_adam_001_sh_10_06')\n",
        "ax.set(xlabel='Epoch', ylabel='Accuracy')\n",
        "ax.legend()\n",
        "plt.show()"
      ]
    },
    {
      "cell_type": "code",
      "execution_count": 135,
      "metadata": {},
      "outputs": [
        {
          "data": {
            "text/plain": [
              "[0.7953379433415123,\n",
              " 0.8204327459290653,\n",
              " 0.8312513941556993,\n",
              " 0.8421815748382779,\n",
              " 0.8437430292215035,\n",
              " 0.8487619897390141,\n",
              " 0.8450814186928396,\n",
              " 0.8527771581530226,\n",
              " 0.8514387686816864,\n",
              " 0.8541155476243587,\n",
              " 0.8511041713138524,\n",
              " 0.8541155476243587,\n",
              " 0.8569038590229758,\n",
              " 0.8579076511264778,\n",
              " 0.8593575730537585,\n",
              " 0.8513272362257417,\n",
              " 0.8515503011376311,\n",
              " 0.8639304037474904,\n",
              " 0.856792326567031,\n",
              " 0.8548962748159714,\n",
              " 0.8521079634173543,\n",
              " 0.8625920142761543,\n",
              " 0.8580191835824225,\n",
              " 0.857461521302699,\n",
              " 0.8555654695516395,\n",
              " 0.8576845862145885,\n",
              " 0.8616997546285968,\n",
              " 0.863484273923712,\n",
              " 0.8547847423600268,\n",
              " 0.8637073388356011,\n",
              " 0.8556770020075842,\n",
              " 0.8566807941110863,\n",
              " 0.8544501449921927]"
            ]
          },
          "execution_count": 135,
          "metadata": {},
          "output_type": "execute_result"
        }
      ],
      "source": [
        "val_f1_micros"
      ]
    },
    {
      "cell_type": "code",
      "execution_count": 139,
      "metadata": {},
      "outputs": [
        {
          "name": "stdout",
          "output_type": "stream",
          "text": [
            "29\n",
            "0.8637073388356011\n"
          ]
        }
      ],
      "source": [
        "for i, val_f1_micro in enumerate(val_f1_micros):\n",
        "    if val_f1_micro == 0.8637073388356011:\n",
        "        print(i)\n",
        "        print(val_f1_micro)"
      ]
    },
    {
      "cell_type": "code",
      "execution_count": 140,
      "metadata": {},
      "outputs": [
        {
          "data": {
            "text/plain": [
              "0.6963865226575303"
            ]
          },
          "execution_count": 140,
          "metadata": {},
          "output_type": "execute_result"
        }
      ],
      "source": [
        "val_f1_macros[29]"
      ]
    },
    {
      "cell_type": "code",
      "execution_count": 130,
      "metadata": {
        "id": "4pVD7IpU8HWu"
      },
      "outputs": [
        {
          "data": {
            "image/png": "[encoded data removed]",
            "text/plain": [
              "<Figure size 640x480 with 1 Axes>"
            ]
          },
          "metadata": {},
          "output_type": "display_data"
        }
      ],
      "source": [
        "%matplotlib inline\n",
        "fig, ax = plt.subplots()\n",
        "ax.plot(train_f1_micros, label='F1_micro_train')\n",
        "ax.plot(val_f1_micros, label='F1_micro_val')\n",
        "ax.plot(train_f1_macros, label='F1_macro_train')\n",
        "ax.plot(val_f1_macros, label='F1_micro_val')\n",
        "ax.set_title('resnet152_add_signs_bg100_tvs_randomchoice_perspective_colorjitter_resizedcrop_erasing_adam_001_sh_10_06')\n",
        "ax.set(xlabel='Epoch', ylabel='Metrics')\n",
        "ax.legend()\n",
        "plt.show()"
      ]
    },
    {
      "cell_type": "code",
      "execution_count": null,
      "metadata": {},
      "outputs": [],
      "source": [
        "29\n",
        "0.8637073388356011\n",
        "0.6963865226575303"
      ]
    },
    {
      "cell_type": "code",
      "execution_count": 173,
      "metadata": {},
      "outputs": [
        {
          "name": "stdout",
          "output_type": "stream",
          "text": [
            "24\n",
            "0.8022529556100825\n"
          ]
        }
      ],
      "source": [
        "for i, val_f1_micro in enumerate(val_f1_micros):\n",
        "    if val_f1_micro == max(val_f1_micros):\n",
        "        print(i)\n",
        "        print(val_f1_micro)"
      ]
    },
    {
      "cell_type": "code",
      "execution_count": 175,
      "metadata": {},
      "outputs": [
        {
          "data": {
            "text/plain": [
              "[0.6835824224849432,\n",
              " 0.709346419808164,\n",
              " 0.7378987285300022,\n",
              " 0.7308721838054874,\n",
              " 0.7575284407762659,\n",
              " 0.7492750390363596,\n",
              " 0.7782734775819763,\n",
              " 0.7826232433638188,\n",
              " 0.7715815302252955,\n",
              " 0.7798349319652019,\n",
              " 0.7885344635288868,\n",
              " 0.7871960740575508,\n",
              " 0.7786080749498104,\n",
              " 0.798237787196074,\n",
              " 0.7755966986393041,\n",
              " 0.7835155030113763,\n",
              " 0.7886459959848315,\n",
              " 0.7960071380771804,\n",
              " 0.7917689047512825,\n",
              " 0.7841846977470445,\n",
              " 0.780838724068704,\n",
              " 0.7913227749275039,\n",
              " 0.7960071380771804,\n",
              " 0.8018068257863038,\n",
              " 0.8022529556100825]"
            ]
          },
          "execution_count": 175,
          "metadata": {},
          "output_type": "execute_result"
        }
      ],
      "source": [
        "val_f1_micros"
      ]
    },
    {
      "cell_type": "code",
      "execution_count": 176,
      "metadata": {},
      "outputs": [
        {
          "data": {
            "text/plain": [
              "[0.45351877561654186,\n",
              " 0.4983675255261235,\n",
              " 0.5303247596628375,\n",
              " 0.5229882573372168,\n",
              " 0.5450821317913449,\n",
              " 0.542786305946213,\n",
              " 0.5856556046203326,\n",
              " 0.5710465674896193,\n",
              " 0.5810164407892296,\n",
              " 0.5896969266732207,\n",
              " 0.5941374392402836,\n",
              " 0.593875712950531,\n",
              " 0.5798111134581114,\n",
              " 0.5994347869047867,\n",
              " 0.6008507588264658,\n",
              " 0.5779396774141815,\n",
              " 0.5973864538669285,\n",
              " 0.6098899615180197,\n",
              " 0.602880403927328,\n",
              " 0.6022258266528389,\n",
              " 0.6017874175184907,\n",
              " 0.6166859355166453,\n",
              " 0.5982228818957533,\n",
              " 0.602251939264438,\n",
              " 0.6012126664498036]"
            ]
          },
          "execution_count": 176,
          "metadata": {},
          "output_type": "execute_result"
        }
      ],
      "source": [
        "val_f1_macros"
      ]
    },
    {
      "cell_type": "code",
      "execution_count": 177,
      "metadata": {},
      "outputs": [
        {
          "data": {
            "image/png": "[encoded data removed]",
            "text/plain": [
              "<Figure size 640x480 with 1 Axes>"
            ]
          },
          "metadata": {},
          "output_type": "display_data"
        }
      ],
      "source": [
        "%matplotlib inline\n",
        "fig, ax = plt.subplots()\n",
        "ax.plot(train_f1_micros, label='F1_micro_train')\n",
        "ax.plot(val_f1_micros, label='F1_micro_val')\n",
        "ax.plot(train_f1_macros, label='F1_macro_train')\n",
        "ax.plot(val_f1_macros, label='F1_micro_val')\n",
        "ax.set_title(model_name)\n",
        "ax.set(xlabel='Epoch', ylabel='Metrics')\n",
        "ax.legend()\n",
        "plt.show()"
      ]
    },
    {
      "cell_type": "code",
      "execution_count": null,
      "metadata": {},
      "outputs": [],
      "source": [
        "24\n",
        "0.8022529556100825\n",
        "0.6012126664498036"
      ]
    }
  ],
  "metadata": {
    "accelerator": "GPU",
    "colab": {
      "include_colab_link": true,
      "provenance": []
    },
    "gpuClass": "premium",
    "kernelspec": {
      "display_name": "Python 3",
      "language": "python",
      "name": "python3"
    },
    "language_info": {
      "codemirror_mode": {
        "name": "ipython",
        "version": 3
      },
      "file_extension": ".py",
      "mimetype": "text/x-python",
      "name": "python",
      "nbconvert_exporter": "python",
      "pygments_lexer": "ipython3",
      "version": "3.11.5"
    },
    "orig_nbformat": 4,
    "vscode": {
      "interpreter": {
        "hash": "3b7e9cb8e453d6cda0fe8c8dd13f891a1f09162f0e7c66ffeae7751a7aecf00d"
      }
    },
    "widgets": {
      "application/vnd.jupyter.widget-state+json": {
        "242586dd62d544a39c122c7b1ed6efc9": {
          "model_module": "@jupyter-widgets/controls",
          "model_module_version": "1.5.0",
          "model_name": "HBoxModel",
          "state": {
            "_dom_classes": [],
            "_model_module": "@jupyter-widgets/controls",
            "_model_module_version": "1.5.0",
            "_model_name": "HBoxModel",
            "_view_count": null,
            "_view_module": "@jupyter-widgets/controls",
            "_view_module_version": "1.5.0",
            "_view_name": "HBoxView",
            "box_style": "",
            "children": [
              "IPY_MODEL_78cb1778f71b45b88ffdb20bfe0cd66e",
              "IPY_MODEL_6d83c78727204f529982e56c3bfe32c1",
              "IPY_MODEL_55191ea6a8eb4574aff8a9bc21fdd55a"
            ],
            "layout": "IPY_MODEL_ae7f4e349b634abd8b36184774421f7a"
          }
        },
        "4146164713eb4c2db70cf52335398a3e": {
          "model_module": "@jupyter-widgets/base",
          "model_module_version": "1.2.0",
          "model_name": "LayoutModel",
          "state": {
            "_model_module": "@jupyter-widgets/base",
            "_model_module_version": "1.2.0",
            "_model_name": "LayoutModel",
            "_view_count": null,
            "_view_module": "@jupyter-widgets/base",
            "_view_module_version": "1.2.0",
            "_view_name": "LayoutView",
            "align_content": null,
            "align_items": null,
            "align_self": null,
            "border": null,
            "bottom": null,
            "display": null,
            "flex": null,
            "flex_flow": null,
            "grid_area": null,
            "grid_auto_columns": null,
            "grid_auto_flow": null,
            "grid_auto_rows": null,
            "grid_column": null,
            "grid_gap": null,
            "grid_row": null,
            "grid_template_areas": null,
            "grid_template_columns": null,
            "grid_template_rows": null,
            "height": null,
            "justify_content": null,
            "justify_items": null,
            "left": null,
            "margin": null,
            "max_height": null,
            "max_width": null,
            "min_height": null,
            "min_width": null,
            "object_fit": null,
            "object_position": null,
            "order": null,
            "overflow": null,
            "overflow_x": null,
            "overflow_y": null,
            "padding": null,
            "right": null,
            "top": null,
            "visibility": null,
            "width": null
          }
        },
        "55191ea6a8eb4574aff8a9bc21fdd55a": {
          "model_module": "@jupyter-widgets/controls",
          "model_module_version": "1.5.0",
          "model_name": "HTMLModel",
          "state": {
            "_dom_classes": [],
            "_model_module": "@jupyter-widgets/controls",
            "_model_module_version": "1.5.0",
            "_model_name": "HTMLModel",
            "_view_count": null,
            "_view_module": "@jupyter-widgets/controls",
            "_view_module_version": "1.5.0",
            "_view_name": "HTMLView",
            "description": "",
            "description_tooltip": null,
            "layout": "IPY_MODEL_b17d80f4da05457781be26c19a1dca17",
            "placeholder": "​",
            "style": "IPY_MODEL_8e403bce502349d28da4553899f80c33",
            "value": " 160M/160M [00:00&lt;00:00, 331MB/s]"
          }
        },
        "6d83c78727204f529982e56c3bfe32c1": {
          "model_module": "@jupyter-widgets/controls",
          "model_module_version": "1.5.0",
          "model_name": "FloatProgressModel",
          "state": {
            "_dom_classes": [],
            "_model_module": "@jupyter-widgets/controls",
            "_model_module_version": "1.5.0",
            "_model_name": "FloatProgressModel",
            "_view_count": null,
            "_view_module": "@jupyter-widgets/controls",
            "_view_module_version": "1.5.0",
            "_view_name": "ProgressView",
            "bar_style": "success",
            "description": "",
            "description_tooltip": null,
            "layout": "IPY_MODEL_4146164713eb4c2db70cf52335398a3e",
            "max": 167502836,
            "min": 0,
            "orientation": "horizontal",
            "style": "IPY_MODEL_e66226838c994913b2d58fd0db3f4282",
            "value": 167502836
          }
        },
        "78cb1778f71b45b88ffdb20bfe0cd66e": {
          "model_module": "@jupyter-widgets/controls",
          "model_module_version": "1.5.0",
          "model_name": "HTMLModel",
          "state": {
            "_dom_classes": [],
            "_model_module": "@jupyter-widgets/controls",
            "_model_module_version": "1.5.0",
            "_model_name": "HTMLModel",
            "_view_count": null,
            "_view_module": "@jupyter-widgets/controls",
            "_view_module_version": "1.5.0",
            "_view_name": "HTMLView",
            "description": "",
            "description_tooltip": null,
            "layout": "IPY_MODEL_e012c54a3a9f48b38c500c17227f67b8",
            "placeholder": "​",
            "style": "IPY_MODEL_91eb94ac4f6347c6b7d860b73e3742da",
            "value": "100%"
          }
        },
        "8e403bce502349d28da4553899f80c33": {
          "model_module": "@jupyter-widgets/controls",
          "model_module_version": "1.5.0",
          "model_name": "DescriptionStyleModel",
          "state": {
            "_model_module": "@jupyter-widgets/controls",
            "_model_module_version": "1.5.0",
            "_model_name": "DescriptionStyleModel",
            "_view_count": null,
            "_view_module": "@jupyter-widgets/base",
            "_view_module_version": "1.2.0",
            "_view_name": "StyleView",
            "description_width": ""
          }
        },
        "91eb94ac4f6347c6b7d860b73e3742da": {
          "model_module": "@jupyter-widgets/controls",
          "model_module_version": "1.5.0",
          "model_name": "DescriptionStyleModel",
          "state": {
            "_model_module": "@jupyter-widgets/controls",
            "_model_module_version": "1.5.0",
            "_model_name": "DescriptionStyleModel",
            "_view_count": null,
            "_view_module": "@jupyter-widgets/base",
            "_view_module_version": "1.2.0",
            "_view_name": "StyleView",
            "description_width": ""
          }
        },
        "ae7f4e349b634abd8b36184774421f7a": {
          "model_module": "@jupyter-widgets/base",
          "model_module_version": "1.2.0",
          "model_name": "LayoutModel",
          "state": {
            "_model_module": "@jupyter-widgets/base",
            "_model_module_version": "1.2.0",
            "_model_name": "LayoutModel",
            "_view_count": null,
            "_view_module": "@jupyter-widgets/base",
            "_view_module_version": "1.2.0",
            "_view_name": "LayoutView",
            "align_content": null,
            "align_items": null,
            "align_self": null,
            "border": null,
            "bottom": null,
            "display": null,
            "flex": null,
            "flex_flow": null,
            "grid_area": null,
            "grid_auto_columns": null,
            "grid_auto_flow": null,
            "grid_auto_rows": null,
            "grid_column": null,
            "grid_gap": null,
            "grid_row": null,
            "grid_template_areas": null,
            "grid_template_columns": null,
            "grid_template_rows": null,
            "height": null,
            "justify_content": null,
            "justify_items": null,
            "left": null,
            "margin": null,
            "max_height": null,
            "max_width": null,
            "min_height": null,
            "min_width": null,
            "object_fit": null,
            "object_position": null,
            "order": null,
            "overflow": null,
            "overflow_x": null,
            "overflow_y": null,
            "padding": null,
            "right": null,
            "top": null,
            "visibility": null,
            "width": null
          }
        },
        "b17d80f4da05457781be26c19a1dca17": {
          "model_module": "@jupyter-widgets/base",
          "model_module_version": "1.2.0",
          "model_name": "LayoutModel",
          "state": {
            "_model_module": "@jupyter-widgets/base",
            "_model_module_version": "1.2.0",
            "_model_name": "LayoutModel",
            "_view_count": null,
            "_view_module": "@jupyter-widgets/base",
            "_view_module_version": "1.2.0",
            "_view_name": "LayoutView",
            "align_content": null,
            "align_items": null,
            "align_self": null,
            "border": null,
            "bottom": null,
            "display": null,
            "flex": null,
            "flex_flow": null,
            "grid_area": null,
            "grid_auto_columns": null,
            "grid_auto_flow": null,
            "grid_auto_rows": null,
            "grid_column": null,
            "grid_gap": null,
            "grid_row": null,
            "grid_template_areas": null,
            "grid_template_columns": null,
            "grid_template_rows": null,
            "height": null,
            "justify_content": null,
            "justify_items": null,
            "left": null,
            "margin": null,
            "max_height": null,
            "max_width": null,
            "min_height": null,
            "min_width": null,
            "object_fit": null,
            "object_position": null,
            "order": null,
            "overflow": null,
            "overflow_x": null,
            "overflow_y": null,
            "padding": null,
            "right": null,
            "top": null,
            "visibility": null,
            "width": null
          }
        },
        "e012c54a3a9f48b38c500c17227f67b8": {
          "model_module": "@jupyter-widgets/base",
          "model_module_version": "1.2.0",
          "model_name": "LayoutModel",
          "state": {
            "_model_module": "@jupyter-widgets/base",
            "_model_module_version": "1.2.0",
            "_model_name": "LayoutModel",
            "_view_count": null,
            "_view_module": "@jupyter-widgets/base",
            "_view_module_version": "1.2.0",
            "_view_name": "LayoutView",
            "align_content": null,
            "align_items": null,
            "align_self": null,
            "border": null,
            "bottom": null,
            "display": null,
            "flex": null,
            "flex_flow": null,
            "grid_area": null,
            "grid_auto_columns": null,
            "grid_auto_flow": null,
            "grid_auto_rows": null,
            "grid_column": null,
            "grid_gap": null,
            "grid_row": null,
            "grid_template_areas": null,
            "grid_template_columns": null,
            "grid_template_rows": null,
            "height": null,
            "justify_content": null,
            "justify_items": null,
            "left": null,
            "margin": null,
            "max_height": null,
            "max_width": null,
            "min_height": null,
            "min_width": null,
            "object_fit": null,
            "object_position": null,
            "order": null,
            "overflow": null,
            "overflow_x": null,
            "overflow_y": null,
            "padding": null,
            "right": null,
            "top": null,
            "visibility": null,
            "width": null
          }
        },
        "e66226838c994913b2d58fd0db3f4282": {
          "model_module": "@jupyter-widgets/controls",
          "model_module_version": "1.5.0",
          "model_name": "ProgressStyleModel",
          "state": {
            "_model_module": "@jupyter-widgets/controls",
            "_model_module_version": "1.5.0",
            "_model_name": "ProgressStyleModel",
            "_view_count": null,
            "_view_module": "@jupyter-widgets/base",
            "_view_module_version": "1.2.0",
            "_view_name": "StyleView",
            "bar_color": null,
            "description_width": ""
          }
        }
      }
    }
  },
  "nbformat": 4,
  "nbformat_minor": 0
}
