{
 "cells": [
  {
   "attachments": {},
   "cell_type": "markdown",
   "metadata": {},
   "source": [
    "[![Open In Colab](https://colab.research.google.com/assets/colab-badge.svg)](https://colab.research.google.com/github/Denis-R-V/TSR/blob/main/main.ipynb)"
   ]
  },
  {
   "cell_type": "code",
   "execution_count": 3,
   "metadata": {},
   "outputs": [],
   "source": [
    "import json\n",
    "import numpy as np \n",
    "import pandas as pd \n",
    "import matplotlib.pyplot as plt"
   ]
  },
  {
   "cell_type": "code",
   "execution_count": 14,
   "metadata": {},
   "outputs": [
    {
     "data": {
      "text/plain": [
       "dict_keys(['images', 'annotations', 'categories'])"
      ]
     },
     "execution_count": 14,
     "metadata": {},
     "output_type": "execute_result"
    }
   ],
   "source": [
    "with open('archive/train_anno.json', 'r') as read_file:\n",
    "    train_anno_reduced = json.load(read_file)\n",
    "train_anno_reduced.keys()"
   ]
  },
  {
   "cell_type": "code",
   "execution_count": 17,
   "metadata": {},
   "outputs": [
    {
     "data": {
      "text/plain": [
       "54188"
      ]
     },
     "metadata": {},
     "output_type": "display_data"
    },
    {
     "data": {
      "text/plain": [
       "95492"
      ]
     },
     "metadata": {},
     "output_type": "display_data"
    },
    {
     "data": {
      "text/plain": [
       "155"
      ]
     },
     "metadata": {},
     "output_type": "display_data"
    }
   ],
   "source": [
    "display(len(train_anno_reduced.get('images')))\n",
    "display(len(train_anno_reduced.get('annotations')))\n",
    "display(len(train_anno_reduced.get('categories')))"
   ]
  },
  {
   "cell_type": "code",
   "execution_count": null,
   "metadata": {},
   "outputs": [],
   "source": []
  },
  {
   "cell_type": "code",
   "execution_count": 13,
   "metadata": {},
   "outputs": [
    {
     "data": {
      "text/plain": [
       "{'id': 10,\n",
       " 'width': 1280,\n",
       " 'height': 720,\n",
       " 'file_name': 'rtsd-frames/autosave01_02_2012_09_13_45.jpg'}"
      ]
     },
     "metadata": {},
     "output_type": "display_data"
    },
    {
     "data": {
      "text/plain": [
       "{'id': 10,\n",
       " 'image_id': 7,\n",
       " 'category_id': 2,\n",
       " 'area': 306,\n",
       " 'bbox': [700, 352, 18, 17],\n",
       " 'iscrowd': 0}"
      ]
     },
     "metadata": {},
     "output_type": "display_data"
    },
    {
     "data": {
      "text/plain": [
       "{'id': 11, 'name': '7_15'}"
      ]
     },
     "metadata": {},
     "output_type": "display_data"
    }
   ],
   "source": [
    "i = 10\n",
    "display(train_anno_reduced.get('images')[i])\n",
    "display(train_anno_reduced.get('annotations')[i])\n",
    "display(train_anno_reduced.get('categories')[i])\n"
   ]
  },
  {
   "cell_type": "code",
   "execution_count": 2,
   "metadata": {},
   "outputs": [],
   "source": [
    "def plot_class_percent_bar(fig, series_class_counts, \n",
    "                           title: str, xlabel: str, ylabel: str, fig_name: str,\n",
    "                           fontsize: int=12,\n",
    "                           color='lightseagreen', edgecolor='lightseagreen'):\n",
    "    plt.tight_layout()\n",
    "    plt.style.use(['classic'])  # 'classic' | 'dark_background'\n",
    "    fig.set_facecolor('w')\n",
    "    \n",
    "    bars = series_class_counts.plot.bar(color=color, edgecolor=edgecolor)\n",
    "\n",
    "    totals = []\n",
    "    for bar in bars.patches:\n",
    "        totals.append(bar.get_height())\n",
    "    total = sum(totals)\n",
    "\n",
    "    ymin, ymax = bars.get_ylim()\n",
    "    bars.set_ylim(top=ymax*1.1)\n",
    "\n",
    "    # set individual bar lables using above list\n",
    "    for bar in bars.patches:\n",
    "        bar_height = bar.get_height()\n",
    "        plt.text(bar.get_x(), bar_height + ymax*0.02,\n",
    "                str(round((bar_height/total)*100, 2)) + \"%\",\n",
    "                fontsize=fontsize, color=color, rotation=90)\n",
    "        \n",
    "    plt.title(title, color='k', fontsize=20)\n",
    "    plt.xlabel(xlabel, color='k', fontsize=16)\n",
    "    plt.ylabel(ylabel, color='k', fontsize=16)\n",
    "    try:\n",
    "        fig.savefig(fig_name)\n",
    "        print(f\"Saved to the: {fig_name}\")\n",
    "    except Exception as e:\n",
    "        print('ERROR: Unsuccessfull saving')\n",
    "        print(e)"
   ]
  },
  {
   "cell_type": "code",
   "execution_count": null,
   "metadata": {},
   "outputs": [],
   "source": [
    "\n",
    "results_path = '/content/drive/My Drive/Colab Notebooks/Results/CourseWork/EN'\n",
    "r1_path = '/content/RTSD classification/rtsd-r1/'\n",
    "\n",
    "classes_names_df_r1 = pd.ExcelFile('/content/drive/My Drive/Colab Notebooks/Bases/numbers_to_classes.xlsx')\n",
    "# classes_names_df_r1 = pd.ExcelFile(r1_path + 'numbers_to_classes.xlsx')\n",
    "classes_names_df_r1 = classes_names_df_r1.parse(sheet_name=0)\n",
    "print(\"Examples of classes names of RTSD-r1:\")\n",
    "display(classes_names_df_r1.head(2))\n",
    "display(classes_names_df_r1.tail(2))\n",
    "\n",
    "n_classes = classes_names_df_r1['class_number'].count()\n",
    "print(\"\\nNumber of classes in RTSD-r1: \" + str(n_classes))  # -> 67\n",
    "\n",
    "labels_df = pd.ExcelFile(r1_path + 'gt_data.xlsx')\n",
    "labels_df = labels_df.parse(sheet_name=0)\n",
    "labels_df['filename'] = r1_path + 'train/' + labels_df['filename']\n",
    "r1_class_counts = labels_df['class_number'].value_counts()\n",
    "print(f'Shape of RTSD-r1 labels DataFrame: {labels_df.shape}')\n",
    "\n",
    "\n",
    "fig = plt.figure(figsize=(20, 6))\n",
    "title = 'RTSD-r1: Number of classes in RTSD-r1'\n",
    "xlabel = 'Traffic sign class number'\n",
    "ylabel = 'Number of images'\n",
    "fig_name = results_path + '/r1_base_en.png'\n",
    "plot_class_percent_bar(fig, r1_class_counts, title, xlabel, ylabel, fig_name)\n",
    "\n",
    "# ------------------------------------------------------------------------------\n",
    "\n",
    "r3_path = '/content/RTSD classification/rtsd-r3/'\n",
    "classes_names_df_r3 = pd.read_csv(r3_path + 'numbers_to_classes.csv')\n",
    "# classes_names_df_r3 = pd.ExcelFile(r3_path + 'numbers_to_classes.xlsx')\n",
    "# classes_names_df_r3 = classes_names_df_r3.parse(sheet_name=0)\n",
    "print(\"\\nExamples of classes names of RTSD-r3:\")\n",
    "display(classes_names_df_r3.head(2))\n",
    "display(classes_names_df_r3.tail(2))\n",
    "\n",
    "n_classes_r3 = classes_names_df_r3['class_number'].count()\n",
    "print(\"\\nNumber of classes in RTSD-r3: \" + str(n_classes_r3))  # -> 106\n",
    "\n",
    "labels_df_r3 = pd.ExcelFile(r3_path + 'gt_data.xlsx')\n",
    "labels_df_r3 = labels_df_r3.parse(sheet_name=0)\n",
    "labels_df_r3['filename'] = r3_path + 'train/' + labels_df_r3['filename']\n",
    "print(f'Shape of RTSD-r3 labels DataFrame: {labels_df_r3.shape}')\n",
    "r3_class_counts = labels_df_r3['class_number'].value_counts()\n",
    "\n",
    "fig = plt.figure(figsize=(23, 6))\n",
    "title = 'RTSD-r3: Number of classes in RTSD-r1'\n",
    "xlabel = 'Traffic sign class number'\n",
    "ylabel = 'Number of images'\n",
    "fig_name = results_path + '/r3_base_en.png'\n",
    "plot_class_percent_bar(fig, r3_class_counts, title, xlabel, ylabel, fig_name, fontsize=10)"
   ]
  }
 ],
 "metadata": {
  "kernelspec": {
   "display_name": "Python 3",
   "language": "python",
   "name": "python3"
  },
  "language_info": {
   "codemirror_mode": {
    "name": "ipython",
    "version": 3
   },
   "file_extension": ".py",
   "mimetype": "text/x-python",
   "name": "python",
   "nbconvert_exporter": "python",
   "pygments_lexer": "ipython3",
   "version": "3.10.8"
  },
  "orig_nbformat": 4,
  "vscode": {
   "interpreter": {
    "hash": "aee8b7b246df8f9039afb4144a1f6fd8d2ca17a180786b69acc140d282b71a49"
   }
  }
 },
 "nbformat": 4,
 "nbformat_minor": 2
}
