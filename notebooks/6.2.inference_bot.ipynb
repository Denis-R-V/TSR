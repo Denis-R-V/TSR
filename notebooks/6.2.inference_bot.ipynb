{
 "cells": [
  {
   "attachments": {},
   "cell_type": "markdown",
   "metadata": {},
   "source": [
    "[![Open In Colab](https://colab.research.google.com/assets/colab-badge.svg)](https://colab.research.google.com/github/Denis-R-V/TSR/blob/main/notebooks/6.2.inference_bot.ipynb)"
   ]
  },
  {
   "attachments": {},
   "cell_type": "markdown",
   "metadata": {},
   "source": [
    "# Система распознавания дорожных знаков на датасете RTSD"
   ]
  },
  {
   "attachments": {},
   "cell_type": "markdown",
   "metadata": {},
   "source": [
    "## Детектор. Инференс (Telegram Bot)"
   ]
  },
  {
   "cell_type": "code",
   "execution_count": 1,
   "metadata": {},
   "outputs": [],
   "source": [
    "# если работаем в колабе - монтируем диск\n",
    "try:\n",
    "    from google.colab import drive\n",
    "    drive.mount('/content/drive')  \n",
    "    colab=True\n",
    "except:\n",
    "    colab=False"
   ]
  },
  {
   "cell_type": "code",
   "execution_count": 2,
   "metadata": {},
   "outputs": [],
   "source": [
    "#import json\n",
    "import os\n",
    "import re\n",
    "import sys\n",
    "\n",
    "#import matplotlib.patches as patches\n",
    "#import matplotlib.pyplot as plt\n",
    "import telebot\n",
    "import torch\n",
    "#import torch.nn as nn\n",
    "#import torch.utils.data\n",
    "#import torchvision\n",
    "#import torchvision.transforms as transforms\n",
    "#from PIL import Image, ImageDraw, ImageFont\n",
    "#from torchvision.models import resnet152\n",
    "#from torchvision.models.detection import FasterRCNN\n",
    "#from torchvision.models.detection.faster_rcnn import FastRCNNPredictor\n",
    "\n",
    "sys.path.append('../')\n",
    "from config import token\n",
    "from src.execute import Builder\n",
    "\n",
    "#%matplotlib inline"
   ]
  },
  {
   "cell_type": "markdown",
   "metadata": {},
   "source": [
    "### Пути и параметры"
   ]
  },
  {
   "cell_type": "code",
   "execution_count": 3,
   "metadata": {},
   "outputs": [],
   "source": [
    "device_id = 0\n",
    "device = f'cuda:{device_id}' if torch.cuda.is_available() else 'cpu'\n",
    "\n",
    "#dataset_path = 'data/raw/RTSD' if colab else os.path.join('..', 'data', 'raw', 'RTSD')\n",
    "data_prepared_path = '../content/drive/MyDrive/TSR/data/prepared' if colab else os.path.join('..', 'data', 'prepared')\n",
    "models_path = '../content/drive/MyDrive/TSR/models' if colab else os.path.join('..', 'models')\n",
    "images_path = '../content/drive/MyDrive/TSR/images/telebot_images' if colab else os.path.join('..', 'images', 'telebot_images')\n",
    "if not os.path.exists(images_path): os.makedirs(images_path)\n",
    "\n",
    "detector_file = 'chkpt_detector_resnet50_v2_augmented_b8_5.pth'\n",
    "classifier_file = 'classifier_resnet152_add_signs_bg100_tvs_randomchoice_perspective_colorjitter_resizedcrop_erasing_adam_001_sh_10_06_model_29.pth'\n",
    "\n",
    "detector_threshold = 0.9\n",
    "classifier_threshold = 0.9\n",
    "debug_mode = False"
   ]
  },
  {
   "attachments": {},
   "cell_type": "markdown",
   "metadata": {},
   "source": [
    "### Загрузка модели (детектор и классификатор) и параметров"
   ]
  },
  {
   "cell_type": "code",
   "execution_count": 4,
   "metadata": {},
   "outputs": [
    {
     "name": "stdout",
     "output_type": "stream",
     "text": [
      "Добавить файлы со знаками\n",
      "Для FasterRCNN с backbone resnet50v2 загружены веса из ..\\models\\chkpt_detector_resnet50_v2_augmented_b8_5.pth\n",
      "Загружен классификатор из ..\\models\\classifier_resnet152_add_signs_bg100_tvs_randomchoice_perspective_colorjitter_resizedcrop_erasing_adam_001_sh_10_06_model_29.pth\n"
     ]
    }
   ],
   "source": [
    "model = Builder(device=device,\n",
    "                detector_path=os.path.join(models_path, detector_file),\n",
    "                classifier_path=os.path.join(models_path, classifier_file),\n",
    "                detector_threshold=detector_threshold,\n",
    "                classifier_threshold=classifier_threshold,\n",
    "                debug_mode=debug_mode)"
   ]
  },
  {
   "attachments": {},
   "cell_type": "markdown",
   "metadata": {},
   "source": [
    "### Telegram bot"
   ]
  },
  {
   "cell_type": "code",
   "execution_count": 5,
   "metadata": {},
   "outputs": [
    {
     "data": {
      "text/plain": [
       "\"        new_image = img_test.copy()\\n        font = ImageFont.load_default()\\n        #font = ImageFont.truetype('arial.ttf', size=18)\\n        pencil = ImageDraw.Draw(new_image)\\n        for i in range(len((result[0]))):\\n            pencil.rectangle(result[0][i], fill = None, width=2, outline='yellow')\\n            text_x = result[0][i][0]\\n            text_y = result[0][i][1]\\n            mark = str(result[1][i]) + ': ' + str(round(result[2][i], 2))\\n            pencil.text((text_x, text_y - 9), mark, font=font, fill = 'red', size = 20)\""
      ]
     },
     "execution_count": 5,
     "metadata": {},
     "output_type": "execute_result"
    }
   ],
   "source": [
    "'''        new_image = img_test.copy()\n",
    "        font = ImageFont.load_default()\n",
    "        #font = ImageFont.truetype('arial.ttf', size=18)\n",
    "        pencil = ImageDraw.Draw(new_image)\n",
    "        for i in range(len((result[0]))):\n",
    "            pencil.rectangle(result[0][i], fill = None, width=2, outline='yellow')\n",
    "            text_x = result[0][i][0]\n",
    "            text_y = result[0][i][1]\n",
    "            mark = str(result[1][i]) + ': ' + str(round(result[2][i], 2))\n",
    "            pencil.text((text_x, text_y - 9), mark, font=font, fill = 'red', size = 20)'''"
   ]
  },
  {
   "cell_type": "code",
   "execution_count": 6,
   "metadata": {},
   "outputs": [],
   "source": [
    "bot = telebot.TeleBot(token)\n",
    "\n",
    "@bot.message_handler(content_types=['text', 'photo'])\n",
    "def get_text_message(message):\n",
    "    if message.text:                                    # to do если в тексте есть классификатор и детектор - ставим оба, если один - по одному, если не одного - запрос 1 или 2 (оба 3)\n",
    "        message_text = message.text\n",
    "        if re.search(r'0[\\.,\\s]\\d+', message.text):\n",
    "            digit_board = re.search('0[\\.,\\s]\\d+', message.text).span()\n",
    "            temp = digit_board\n",
    "            threshold = message.text[digit_board[0] : digit_board[1]]\n",
    "            threshold = re.sub(r',|\\s', '.', threshold)\n",
    "            threshold = round(float(threshold), 2)\n",
    "            bot.send_message(message.from_user.id, f'Установлен threshold = {model.detector_threshold}')\n",
    "        \n",
    "        elif re.search('трешхолд|трэшхолд|threshold', message.text.lower()):\n",
    "            bot.send_message(message.from_user.id, f'Threshold = {model.detector_threshold}')\n",
    "\n",
    "        elif re.search('debug|дебаг', message.text.lower()):\n",
    "            model.debug_mode = not model.debug_mode\n",
    "            bot.send_message(message.from_user.id, f'Установлен debug_mode = {model.debug_mode}')\n",
    "        \n",
    "        else:\n",
    "            bot.send_message(message.from_user.id, 'Привет!\\nБот принимает фотографию и возвращает фотографию с отмеченными дорожными знаками и их названиями.')\n",
    "    \n",
    "    elif message.photo:\n",
    "        #image = message.photo\n",
    "        #bot.send_message(message.from_user.id, 'Получено фото')\n",
    "        #file_path = '.'\n",
    "        raw = message.photo[3].file_id\n",
    "        name = raw + '.jpg'\n",
    "        file_info = bot.get_file(raw)\n",
    "        downloaded_file = bot.download_file(file_info.file_path)\n",
    "        with open(os.path.join(images_path, name), 'wb') as new_file:\n",
    "            new_file.write(downloaded_file)\n",
    "        \n",
    "        #img = Image.open(os.path.join(images_path, name), 'r')\n",
    "        \n",
    "        img_pred, description = model.predict_single_visualized(os.path.join(images_path, name))\n",
    "        \n",
    "        labels_names = '\\n'.join(description)\n",
    "\n",
    "        #bot.send_message(message.from_user.id, str(result))\n",
    "        bot.send_photo(message.from_user.id, img_pred)\n",
    "        bot.send_message(message.from_user.id, labels_names)\n",
    "        \n",
    "bot.polling(none_stop=True, interval=0)"
   ]
  },
  {
   "cell_type": "code",
   "execution_count": 73,
   "metadata": {},
   "outputs": [
    {
     "name": "stderr",
     "output_type": "stream",
     "text": [
      "<>:19: SyntaxWarning: invalid escape sequence '\\.'\n",
      "<>:19: SyntaxWarning: invalid escape sequence '\\.'\n",
      "/var/folders/kq/gcmv7zs911x1dpngq2dt4m_00000gn/T/ipykernel_60242/3232980988.py:19: SyntaxWarning: invalid escape sequence '\\.'\n",
      "  digit_board = re.search('0[\\.,\\s]\\d+', message.text).span()\n"
     ]
    }
   ],
   "source": [
    "bot = telebot.TeleBot(token)\n",
    "\n",
    "@bot.message_handler(content_types=['text', 'photo'])\n",
    "def get_text_message(message):\n",
    "    if message.text:                                    # to do если в тексте есть классификатор и детектор - ставим оба, если один - по одному, если не одного - запрос 1 или 2 (оба 3)\n",
    "        message_text = message.text\n",
    "        if re.search(r'0[\\.,\\s]\\d+', message.text):\n",
    "            digit_board = re.search('0[\\.,\\s]\\d+', message.text).span()\n",
    "            temp = digit_board\n",
    "            threshold = message.text[digit_board[0] : digit_board[1]]\n",
    "            threshold = re.sub(r',|\\s', '.', threshold)\n",
    "            threshold = round(float(threshold), 2)\n",
    "            bot.send_message(message.from_user.id, f'Установлен threshold = {model.detector_threshold}')\n",
    "        \n",
    "        elif re.search('трешхолд|трэшхолд|threshold', message.text.lower()):\n",
    "            bot.send_message(message.from_user.id, f'Threshold = {model.detector_threshold}')\n",
    "\n",
    "        elif re.search('debug|дебаг', message.text.lower()):\n",
    "            model.debug_mode = not model.debug_mode\n",
    "            bot.send_message(message.from_user.id, f'Установлен debug_mode = {model.debug_mode}')\n",
    "        \n",
    "        else:\n",
    "            bot.send_message(message.from_user.id, 'Привет!\\nБот принимает фотографию и возвращает фотографию с отмеченными дорожными знаками и их названиями.')\n",
    "    \n",
    "    elif message.photo:\n",
    "        image = message.photo\n",
    "        #bot.send_message(message.from_user.id, 'Получено фото')\n",
    "        file_path = '.'\n",
    "        raw = message.photo[3].file_id\n",
    "        name = raw + '.jpg'\n",
    "        file_info = bot.get_file(raw)\n",
    "        downloaded_file = bot.download_file(file_info.file_path)\n",
    "        with open(os.path.join(images_path, name), 'wb') as new_file:\n",
    "            new_file.write(downloaded_file)\n",
    "        img = Image.open(os.path.join(images_path, name), 'r')\n",
    "        img_test = img\n",
    "        \n",
    "        result = model.predict_single(img)\n",
    "\n",
    "        new_image = img_test.copy()\n",
    "        font = ImageFont.load_default()\n",
    "        #font = ImageFont.truetype('arial.ttf', size=18)\n",
    "        pencil = ImageDraw.Draw(new_image)\n",
    "        for i in range(len((result[0]))):\n",
    "            pencil.rectangle(result[0][i], fill = None, width=2, outline='yellow')\n",
    "            text_x = result[0][i][0]\n",
    "            text_y = result[0][i][1]\n",
    "            mark = str(result[1][i]) + ': ' + str(round(result[2][i], 2))\n",
    "            pencil.text((text_x, text_y - 9), mark, font=font, fill = 'red', size = 20)\n",
    "        \n",
    "        with open(os.path.join(data_prepared_path, 'labels_names_map.json'), 'r') as read_file:\n",
    "            labels_names_map = json.load(read_file)\n",
    "        read_file.close()\n",
    "\n",
    "        labels = []\n",
    "        if result[1] != []:\n",
    "            for res in result[1]:\n",
    "                labels.append(res)\n",
    "        labels = list(set(labels))\n",
    "        labels.sort()\n",
    "        labels_names = []\n",
    "        for label in labels:\n",
    "            labels_names.append(f\"{label}: {labels_names_map.get(label)}\")\n",
    "        \n",
    "        labels_names = '\\n'.join(labels_names)\n",
    "\n",
    "        #bot.send_message(message.from_user.id, str(result))\n",
    "        bot.send_photo(message.from_user.id, new_image)\n",
    "        bot.send_message(message.from_user.id, labels_names)\n",
    "        \n",
    "bot.polling(none_stop=True, interval=0)"
   ]
  }
 ],
 "metadata": {
  "kernelspec": {
   "display_name": "Python 3",
   "language": "python",
   "name": "python3"
  },
  "language_info": {
   "codemirror_mode": {
    "name": "ipython",
    "version": 3
   },
   "file_extension": ".py",
   "mimetype": "text/x-python",
   "name": "python",
   "nbconvert_exporter": "python",
   "pygments_lexer": "ipython3",
   "version": "3.11.9"
  },
  "orig_nbformat": 4,
  "vscode": {
   "interpreter": {
    "hash": "3b7e9cb8e453d6cda0fe8c8dd13f891a1f09162f0e7c66ffeae7751a7aecf00d"
   }
  }
 },
 "nbformat": 4,
 "nbformat_minor": 2
}
