{
  "cells": [
    {
      "attachments": {},
      "cell_type": "markdown",
      "metadata": {
        "id": "dJ8-zW_yJ279"
      },
      "source": [
        "<a href=\"https://colab.research.google.com/github/Denis-R-V/TSR/blob/main/3.0.sign_detector_v1.ipynb\" target=\"_parent\"><img src=\"https://colab.research.google.com/assets/colab-badge.svg\" alt=\"Open In Colab\"/></a>"
      ]
    },
    {
      "attachments": {},
      "cell_type": "markdown",
      "metadata": {
        "id": "5xtJ8o7tJ27-"
      },
      "source": [
        "# Система распознавания дорожных знаков на датасете RTSD\n",
        "## Обучение детектора"
      ]
    },
    {
      "cell_type": "code",
      "execution_count": 1,
      "metadata": {},
      "outputs": [],
      "source": [
        "colab = False\n",
        "\n",
        "if colab == True:\n",
        "    from google.colab import drive\n",
        "    drive.mount('/content/drive')\n",
        "    !pip install kaggle\n",
        "    !mkdir ~/.kaggle\n",
        "    !cp /content/drive/MyDrive/kaggle.json ~/.kaggle/kaggle.json\n",
        "    !kaggle datasets download watchman/rtsd-dataset\n",
        "    !unzip rtsd-dataset.zip\n",
        "    !rm rtsd-dataset.zip\n",
        "    !cp -r rtsd-frames/rtsd-frames/ .\n",
        "    !rm -r rtsd-frames/rtsd-frames/\n",
        "    !pip install fiftyone\n",
        "if colab == True:\n",
        "    dataset_path = '.'\n",
        "    checkpoints_path = '../content/drive/MyDrive/TSR/checkpoints'\n",
        "else:\n",
        "    dataset_path = 'data'\n",
        "    checkpoints_path = 'checkpoints'\n",
        "\n",
        "import os\n",
        "import json\n",
        "#import numpy as np \n",
        "import pandas as pd \n",
        "\n",
        "from PIL import Image\n",
        "import matplotlib.pyplot as plt\n",
        "import matplotlib.patches as patches\n",
        "\n",
        "from pycocotools.coco import COCO\n",
        "import fiftyone as fo\n",
        "import time\n",
        "import torch\n",
        "import torchvision\n",
        "from torch.utils.data import Dataset, DataLoader\n",
        "#import torchvision.transforms as transforms\n",
        "from torchvision.models.detection.faster_rcnn import FastRCNNPredictor\n",
        "from torchvision.models.detection import FasterRCNN\n",
        "import cv2"
      ]
    },
    {
      "cell_type": "markdown",
      "metadata": {
        "id": "tRRoJ7Q4J28Z"
      },
      "source": [
        "### Загрузчик данных"
      ]
    },
    {
      "cell_type": "code",
      "execution_count": null,
      "metadata": {},
      "outputs": [],
      "source": [
        "# Преобразование классов знаков в 1 класс\n",
        "def anno_to_bin_class(anno_file):\n",
        "    '''Функция создает копию файла с аннотацией, преобразует все классы в 1 (знак)\n",
        "    и сохраняет новый файл с аннотацией'''\n",
        "    with open(os.path.join(dataset_path, anno_file), 'r') as read_file:\n",
        "        anno_json = json.load(read_file)\n",
        "    read_file.close()\n",
        "\n",
        "    for i in range(len(anno_json['annotations'])):\n",
        "        anno_json['annotations'][i]['category_id'] = 1    \n",
        "    \n",
        "    anno_json['categories'] = [{'id': 1, 'name': 'sign'}]\n",
        "    \n",
        "    anno_file_new = anno_file.split('.')[0] + '_bin_class.json'\n",
        "    \n",
        "    with open(os.path.join(dataset_path, anno_file_new), 'w') as f:\n",
        "        json.dump(anno_json, f)#ensure_ascii=False, indent=4)\n",
        "    f.close()\n",
        "\n",
        "    return anno_json\n",
        "anno_to_bin_class('train_anno.json')\n",
        "anno_to_bin_class('train_anno_reduced.json')\n",
        "anno_to_bin_class('val_anno.json')"
      ]
    },
    {
      "cell_type": "code",
      "execution_count": 3,
      "metadata": {
        "id": "MwbfgR4XJ28Z"
      },
      "outputs": [],
      "source": [
        "class RTSD_dataset(Dataset):\n",
        "  \n",
        "    def __init__(self, json_path, img_path):\n",
        "        self.json_path = json_path\n",
        "        self.img_path = img_path\n",
        "        \n",
        "        with open(json_path, 'r') as read_file:\n",
        "            self.anno = json.load(read_file)\n",
        "        read_file.close()\n",
        "\n",
        "        self.df_dataset = pd.DataFrame(self.anno.get('annotations'))\n",
        "        self.df_images = pd.DataFrame(self.anno.get('images'))\n",
        "        self.df_images.rename(columns={'id':'image_id'}, inplace=True)\n",
        "        self.df_dataset = self.df_dataset.merge(self.df_images)\n",
        "        self.df_dataset = self.df_dataset[['file_name', 'bbox', 'category_id']].groupby('file_name', as_index=False).agg(list)\n",
        "\n",
        "    def __len__(self):\n",
        "        return self.df_dataset.shape[0]\n",
        "  \n",
        "    def __getitem__(self, index):\n",
        "        img_name = self.df_dataset.loc[index,'file_name']\n",
        "        boxes = []\n",
        "        for box in self.df_dataset.loc[index,'bbox']:\n",
        "            box_for_rcnn = [box[0], box[1], box[0] + box[2], box[1] + box[3]]\n",
        "            boxes.append(box_for_rcnn)\n",
        "        boxes = torch.Tensor(boxes).to(torch.float)            # возможно нужно преобразовать x_max и y_max\n",
        "        labels = torch.Tensor(self.df_dataset.loc[index, 'category_id']).to(torch.int64)\n",
        "        #area = (boxes[:, 2] - boxes[:, 0]) * (boxes[:, 3] - boxes[:, 0])\n",
        "        #iscrowd = torch.zeros(labels.shape[0], dtype=torch.int64)\n",
        "\n",
        "        target = {}\n",
        "        target['boxes'] = boxes\n",
        "        target['labels'] = labels\n",
        "\n",
        "        img = cv2.imread(os.path.join(self.img_path, img_name))/255.\n",
        "        img = torch.from_numpy(img).permute(2, 0, 1).to(torch.float)\n",
        "        return img, target"
      ]
    },
    {
      "cell_type": "code",
      "execution_count": 10,
      "metadata": {
        "id": "74veX1KrJ28Z"
      },
      "outputs": [
        {
          "data": {
            "text/plain": [
              "{'boxes': tensor([[937., 210., 996., 282.],\n",
              "         [937., 210., 996., 282.]]),\n",
              " 'labels': tensor([11, 11])}"
            ]
          },
          "execution_count": 10,
          "metadata": {},
          "output_type": "execute_result"
        }
      ],
      "source": [
        "test = RTSD_dataset('data/train_anno_reduced.json', 'data/')\n",
        "img, target = test.__getitem__(1)\n",
        "target"
      ]
    },
    {
      "cell_type": "markdown",
      "metadata": {
        "id": "8TnfiyYUJ28Z"
      },
      "source": [
        "### Формирование батча"
      ]
    },
    {
      "cell_type": "code",
      "execution_count": 4,
      "metadata": {
        "id": "ltY8LK2BJ28Z"
      },
      "outputs": [],
      "source": [
        "def collate_fn(batch):\n",
        "    return tuple(zip(*batch))"
      ]
    },
    {
      "cell_type": "markdown",
      "metadata": {
        "id": "J90qxR2RJ28Z"
      },
      "source": [
        "### Гиперпараметры"
      ]
    },
    {
      "cell_type": "code",
      "execution_count": 5,
      "metadata": {
        "id": "CI7vlkQPJ28Z"
      },
      "outputs": [],
      "source": [
        "device_id = 0\n",
        "if torch.cuda.is_available() == True:\n",
        "    device = f'cuda:{device_id}'\n",
        "elif torch.backends.mps.is_available() == True:\n",
        "    device = 'mps'\n",
        "else:\n",
        "    device = 'cpu'\n",
        "\n",
        "backbone = 'resnet50'\n",
        "#backbone = 'resnet50_v2'\n",
        "#backbone = 'mobilenet_v3'\n",
        "#backbone = 'mobilenet_v3_320'\n",
        "\n",
        "# эпоха для загрузки параметров, обучение начинается со следующей\n",
        "last_epoch = None      \n",
        "n_epochs = 10       # полное количество эпох для обучения\n",
        "batch_size = 8\n",
        "num_classes = 2\n",
        "\n",
        "device"
      ]
    },
    {
      "cell_type": "markdown",
      "metadata": {
        "id": "Xo40ASBXJ28Z"
      },
      "source": [
        "### Инициализация модели, задание оптимизатора и функции потерь"
      ]
    },
    {
      "cell_type": "code",
      "execution_count": 41,
      "metadata": {
        "id": "HNRGcfkIJ28Z"
      },
      "outputs": [],
      "source": [
        "def create_model(backbone, num_classes, pretrained=True):\n",
        "    # load model pre-trained on COCO\n",
        "    if backbone == 'resnet50':\n",
        "        model = torchvision.models.detection.fasterrcnn_resnet50_fpn(weights='FasterRCNN_ResNet50_FPN_Weights.COCO_V1')\n",
        "    elif backbone == 'resnet50_v2':\n",
        "        model =torchvision.models.detection.fasterrcnn_resnet50_fpn_v2(weights='FasterRCNN_ResNet50_FPN_V2_Weights.DEFAULT')\n",
        "    elif backbone == 'mobilenet_v3':\n",
        "        model =torchvision.models.detection.fasterrcnn_mobilenet_v3_large_fpn(weights='FasterRCNN_MobileNet_V3_Large_FPN_Weights.DEFAULT')\n",
        "    elif backbone == 'mobilenet_v3_320':    \n",
        "        model =torchvision.models.detection.fasterrcnn_mobilenet_v3_large_320_fpn(weights='FasterRCNN_MobileNet_V3_Large_320_FPN_Weights.DEFAULT')\n",
        "    # get number of input features for the classifier\n",
        "    in_features = model.roi_heads.box_predictor.cls_score.in_features\n",
        "    # replace the pre-trained head with a new one\n",
        "    model.roi_heads.box_predictor = FastRCNNPredictor(in_features, num_classes)\n",
        "    return model"
      ]
    },
    {
      "cell_type": "code",
      "execution_count": 42,
      "metadata": {
        "id": "ZdWxX5-PJ28Z"
      },
      "outputs": [],
      "source": [
        "model = create_model(backbone=backbone, num_classes=2, pretrained=True).to(device)\n",
        "\n",
        "# parameters\n",
        "params = [p for p in model.parameters() if p.requires_grad]\n",
        "\n",
        "# optimizer\n",
        "optimizer = torch.optim.SGD(params, lr=0.005, momentum=0.9, weight_decay=0.0005)\n",
        "#optimizer = torch.optim.SGD(model.parameters(), lr=1e-3, momentum=0.9, weight_decay=0.0005)\n",
        "#optimizer = torch.optim.Adam(model.parameters(), lr=1e-4, weight_decay=0.0005)\n",
        "\n",
        "# learning rate scheduler\n",
        "lr_scheduler = torch.optim.lr_scheduler.StepLR(optimizer, step_size=3, gamma=0.1)\n",
        "#lr_scheduler = torch.optim.lr_scheduler.StepLR(optimizer, step_size=1, gamma=0.9)\n",
        "\n",
        "# Загрузка весов модели, состояния оптимизатора и шедулера\n",
        "if last_epoch is not None:\n",
        "    checkpoint = torch.load(os.path.join(checkpoints_path, f'chkpt_detector_{backbone}_{last_epoch}.pth'), map_location=device)\n",
        "    model.load_state_dict(checkpoint['model_state_dict'])\n",
        "    optimizer.load_state_dict(checkpoint['optimizer_state_dict'])\n",
        "    lr_scheduler.load_state_dict(checkpoint['lr_scheduler_state_dict'])\n",
        "\n",
        "train_dataset = RTSD_dataset(os.path.join(dataset_path, 'train_anno_bin_class.json'),\n",
        "                                          dataset_path)\n",
        "val_dataset = RTSD_dataset(os.path.join(dataset_path, 'val_anno_bin_class.json'), dataset_path)\n",
        "\n",
        "train_data_loader = DataLoader(\n",
        "    train_dataset,\n",
        "    batch_size=batch_size,\n",
        "    shuffle=True,\n",
        "    #num_workers=4,\n",
        "    collate_fn=collate_fn\n",
        ")\n",
        "\n",
        "val_data_loader = DataLoader(\n",
        "    val_dataset,\n",
        "    batch_size=batch_size,\n",
        "    shuffle=False,\n",
        "    #num_workers=4,\n",
        "    collate_fn=collate_fn\n",
        ")"
      ]
    },
    {
      "cell_type": "markdown",
      "metadata": {
        "id": "2YimGoL3J28Z"
      },
      "source": [
        "### Трейн луп"
      ]
    },
    {
      "cell_type": "code",
      "execution_count": 37,
      "metadata": {
        "id": "A7iQ-nA4J28Z"
      },
      "outputs": [],
      "source": [
        "def train(train_dataloader, epoch): \n",
        "    len_dataloader = len(train_dataloader)\n",
        "    model.train()\n",
        "    running_loss = 0\n",
        "    for i, data in enumerate(train_dataloader):\n",
        "        optimizer.zero_grad()\n",
        "        images, targets = data[0], data[1]\n",
        "        images = list(image.to(device) for image in images)\n",
        "        targets = [{k: v.to(device) for k, v in t.items()} for t in targets]\n",
        "        loss_dict = model(images, targets)\n",
        "        loss = sum(loss for loss in loss_dict.values())\n",
        "        running_loss += loss.item()\n",
        "        loss.backward()\n",
        "        optimizer.step()\n",
        "        if i % 50 == 0:\n",
        "            print(f\"\\tЭпоха {epoch}. Итерация {i}/{len_dataloader}. Loss: {loss}\")\n",
        "    train_loss = running_loss/len(train_dataloader.dataset)\n",
        "    return train_loss\n",
        "\n",
        "def val(val_dataloader, epoch):\n",
        "    running_loss = 0\n",
        "    for data in val_dataloader:\n",
        "        optimizer.zero_grad()\n",
        "        images, targets = data[0], data[1]\n",
        "        images = list(image.to(device) for image in images)\n",
        "        targets = [{k: v.to(device) for k, v in t.items()} for t in targets]\n",
        "        with torch.no_grad():\n",
        "            loss_dict = model(images, targets)\n",
        "        loss = sum(loss for loss in loss_dict.values())\n",
        "        running_loss += loss.item()\n",
        "        \n",
        "    val_loss = running_loss/len(val_dataloader.dataset)\n",
        "    return val_loss"
      ]
    },
    {
      "cell_type": "code",
      "execution_count": 17,
      "metadata": {
        "colab": {
          "base_uri": "https://localhost:8080/"
        },
        "id": "dPWlmt4_J28a",
        "outputId": "6907b343-fdc4-4118-d3d1-62247206d21a"
      },
      "outputs": [
        {
          "name": "stdout",
          "output_type": "stream",
          "text": [
            "\tЭпоха 0. Итерация 0/6774. Loss: 0.6479818820953369\n",
            "\tЭпоха 0. Итерация 50/6774. Loss: 0.2811393737792969\n",
            "\tЭпоха 0. Итерация 100/6774. Loss: 0.11667880415916443\n",
            "\tЭпоха 0. Итерация 150/6774. Loss: 0.08184801042079926\n",
            "\tЭпоха 0. Итерация 200/6774. Loss: 0.08028943091630936\n",
            "\tЭпоха 0. Итерация 250/6774. Loss: 0.10758046060800552\n",
            "\tЭпоха 0. Итерация 300/6774. Loss: 0.14786073565483093\n",
            "\tЭпоха 0. Итерация 350/6774. Loss: 0.09154942631721497\n",
            "\tЭпоха 0. Итерация 400/6774. Loss: 0.10243380814790726\n",
            "\tЭпоха 0. Итерация 450/6774. Loss: 0.12386808544397354\n",
            "\tЭпоха 0. Итерация 500/6774. Loss: 0.11992771178483963\n",
            "\tЭпоха 0. Итерация 550/6774. Loss: 0.11700306832790375\n",
            "\tЭпоха 0. Итерация 600/6774. Loss: 0.10319014638662338\n",
            "\tЭпоха 0. Итерация 650/6774. Loss: 0.08022608608007431\n",
            "\tЭпоха 0. Итерация 700/6774. Loss: 0.07238023728132248\n",
            "\tЭпоха 0. Итерация 750/6774. Loss: 0.09078812599182129\n",
            "\tЭпоха 0. Итерация 800/6774. Loss: 0.07555250823497772\n",
            "\tЭпоха 0. Итерация 850/6774. Loss: 0.07535095512866974\n",
            "\tЭпоха 0. Итерация 900/6774. Loss: 0.11640104651451111\n",
            "\tЭпоха 0. Итерация 950/6774. Loss: 0.12119604647159576\n",
            "\tЭпоха 0. Итерация 1000/6774. Loss: 0.10468333959579468\n",
            "\tЭпоха 0. Итерация 1050/6774. Loss: 0.06743171066045761\n",
            "\tЭпоха 0. Итерация 1100/6774. Loss: 0.07821620255708694\n",
            "\tЭпоха 0. Итерация 1150/6774. Loss: 0.15221846103668213\n",
            "\tЭпоха 0. Итерация 1200/6774. Loss: 0.08700944483280182\n",
            "\tЭпоха 0. Итерация 1250/6774. Loss: 0.07789355516433716\n",
            "\tЭпоха 0. Итерация 1300/6774. Loss: 0.13754576444625854\n",
            "\tЭпоха 0. Итерация 1350/6774. Loss: 0.10920973867177963\n",
            "\tЭпоха 0. Итерация 1400/6774. Loss: 0.10991774499416351\n",
            "\tЭпоха 0. Итерация 1450/6774. Loss: 0.11541711539030075\n",
            "Прервано пользователем\n"
          ]
        }
      ],
      "source": [
        "# Загрузка словарей с лоссами\n",
        "if last_epoch is not None:\n",
        "    train_losses = checkpoint['losses_train']\n",
        "    val_losses = checkpoint['losses_val']\n",
        "else:\n",
        "    train_losses = []\n",
        "    val_losses = []\n",
        "\n",
        "try:\n",
        "    for epoch in range(last_epoch + 1, n_epochs):\n",
        "        start = time.time()\n",
        "        train_loss = train(train_data_loader, epoch)\n",
        "        val_loss = val(val_data_loader, epoch)\n",
        "        #lr_scheduler.step()\n",
        "        print(f\"Эпоха #{epoch} train_loss: {train_loss}, val_loss: {val_loss}\")  \n",
        "        end = time.time()\n",
        "        print(f\"Потрачено {round((end - start) / 60, 1)} минут на {epoch} эпоху\")\n",
        "        train_losses.append(train_loss)\n",
        "        val_losses.append(val_loss)\n",
        "        torch.save({'epoch': epoch,\n",
        "                    'model_state_dict': model.state_dict(),\n",
        "                    'optimizer_state_dict': optimizer.state_dict(),\n",
        "                    'lr_scheduler_state_dict': lr_scheduler.state_dict(),\n",
        "                    'losses_train': train_losses,\n",
        "                    'losses_val': val_losses\n",
        "                    }, os.path.join(checkpoints_path, f'chkpt_detector_{backbone}_{epoch}.pth')\n",
        "                   )\n",
        "        torch.save(model, os.path.join(checkpoints_path, f'model_detector_{backbone}_{epoch}.pth'))\n",
        "except KeyboardInterrupt:\n",
        "    print('Прервано пользователем')"
      ]
    },
    {
      "cell_type": "code",
      "execution_count": 17,
      "metadata": {},
      "outputs": [
        {
          "data": {
            "image/png": "[encoded data removed]",
            "text/plain": [
              "<Figure size 640x480 with 1 Axes>"
            ]
          },
          "metadata": {},
          "output_type": "display_data"
        }
      ],
      "source": [
        "%matplotlib inline\n",
        "fig, ax = plt.subplots()\n",
        "ax.plot(train_losses, label='Train')\n",
        "ax.plot(val_losses, label='Val')\n",
        "#ax.plot(val_losses, label='Val')\n",
        "ax.set(xlabel='Epoch', ylabel='Loss')\n",
        "ax.legend()\n",
        "plt.show()"
      ]
    },
    {
      "cell_type": "code",
      "execution_count": null,
      "metadata": {},
      "outputs": [],
      "source": []
    }
  ],
  "metadata": {
    "accelerator": "GPU",
    "colab": {
      "include_colab_link": true,
      "provenance": []
    },
    "gpuClass": "standard",
    "kernelspec": {
      "display_name": "Python 3",
      "language": "python",
      "name": "python3"
    },
    "language_info": {
      "codemirror_mode": {
        "name": "ipython",
        "version": 3
      },
      "file_extension": ".py",
      "mimetype": "text/x-python",
      "name": "python",
      "nbconvert_exporter": "python",
      "pygments_lexer": "ipython3",
      "version": "3.10.9 (tags/v3.10.9:1dd9be6, Dec  6 2022, 20:01:21) [MSC v.1934 64 bit (AMD64)]"
    },
    "orig_nbformat": 4,
    "vscode": {
      "interpreter": {
        "hash": "3b7e9cb8e453d6cda0fe8c8dd13f891a1f09162f0e7c66ffeae7751a7aecf00d"
      }
    },
    "widgets": {
      "application/vnd.jupyter.widget-state+json": {
        "37efbb5e22684840aa988c0e23663136": {
          "model_module": "@jupyter-widgets/controls",
          "model_module_version": "1.5.0",
          "model_name": "HTMLModel",
          "state": {
            "_dom_classes": [],
            "_model_module": "@jupyter-widgets/controls",
            "_model_module_version": "1.5.0",
            "_model_name": "HTMLModel",
            "_view_count": null,
            "_view_module": "@jupyter-widgets/controls",
            "_view_module_version": "1.5.0",
            "_view_name": "HTMLView",
            "description": "",
            "description_tooltip": null,
            "layout": "IPY_MODEL_4b0676ddb2f74f5e99fda5eb02efc9c8",
            "placeholder": "​",
            "style": "IPY_MODEL_e767c44bb5a646f9974615703e6ecdda",
            "value": " 160M/160M [00:01&lt;00:00, 155MB/s]"
          }
        },
        "4828f836fb2642f6bafd14ba7b69ae49": {
          "model_module": "@jupyter-widgets/base",
          "model_module_version": "1.2.0",
          "model_name": "LayoutModel",
          "state": {
            "_model_module": "@jupyter-widgets/base",
            "_model_module_version": "1.2.0",
            "_model_name": "LayoutModel",
            "_view_count": null,
            "_view_module": "@jupyter-widgets/base",
            "_view_module_version": "1.2.0",
            "_view_name": "LayoutView",
            "align_content": null,
            "align_items": null,
            "align_self": null,
            "border": null,
            "bottom": null,
            "display": null,
            "flex": null,
            "flex_flow": null,
            "grid_area": null,
            "grid_auto_columns": null,
            "grid_auto_flow": null,
            "grid_auto_rows": null,
            "grid_column": null,
            "grid_gap": null,
            "grid_row": null,
            "grid_template_areas": null,
            "grid_template_columns": null,
            "grid_template_rows": null,
            "height": null,
            "justify_content": null,
            "justify_items": null,
            "left": null,
            "margin": null,
            "max_height": null,
            "max_width": null,
            "min_height": null,
            "min_width": null,
            "object_fit": null,
            "object_position": null,
            "order": null,
            "overflow": null,
            "overflow_x": null,
            "overflow_y": null,
            "padding": null,
            "right": null,
            "top": null,
            "visibility": null,
            "width": null
          }
        },
        "4b0676ddb2f74f5e99fda5eb02efc9c8": {
          "model_module": "@jupyter-widgets/base",
          "model_module_version": "1.2.0",
          "model_name": "LayoutModel",
          "state": {
            "_model_module": "@jupyter-widgets/base",
            "_model_module_version": "1.2.0",
            "_model_name": "LayoutModel",
            "_view_count": null,
            "_view_module": "@jupyter-widgets/base",
            "_view_module_version": "1.2.0",
            "_view_name": "LayoutView",
            "align_content": null,
            "align_items": null,
            "align_self": null,
            "border": null,
            "bottom": null,
            "display": null,
            "flex": null,
            "flex_flow": null,
            "grid_area": null,
            "grid_auto_columns": null,
            "grid_auto_flow": null,
            "grid_auto_rows": null,
            "grid_column": null,
            "grid_gap": null,
            "grid_row": null,
            "grid_template_areas": null,
            "grid_template_columns": null,
            "grid_template_rows": null,
            "height": null,
            "justify_content": null,
            "justify_items": null,
            "left": null,
            "margin": null,
            "max_height": null,
            "max_width": null,
            "min_height": null,
            "min_width": null,
            "object_fit": null,
            "object_position": null,
            "order": null,
            "overflow": null,
            "overflow_x": null,
            "overflow_y": null,
            "padding": null,
            "right": null,
            "top": null,
            "visibility": null,
            "width": null
          }
        },
        "53087f1045234fe6bc49e467e9f85f50": {
          "model_module": "@jupyter-widgets/base",
          "model_module_version": "1.2.0",
          "model_name": "LayoutModel",
          "state": {
            "_model_module": "@jupyter-widgets/base",
            "_model_module_version": "1.2.0",
            "_model_name": "LayoutModel",
            "_view_count": null,
            "_view_module": "@jupyter-widgets/base",
            "_view_module_version": "1.2.0",
            "_view_name": "LayoutView",
            "align_content": null,
            "align_items": null,
            "align_self": null,
            "border": null,
            "bottom": null,
            "display": null,
            "flex": null,
            "flex_flow": null,
            "grid_area": null,
            "grid_auto_columns": null,
            "grid_auto_flow": null,
            "grid_auto_rows": null,
            "grid_column": null,
            "grid_gap": null,
            "grid_row": null,
            "grid_template_areas": null,
            "grid_template_columns": null,
            "grid_template_rows": null,
            "height": null,
            "justify_content": null,
            "justify_items": null,
            "left": null,
            "margin": null,
            "max_height": null,
            "max_width": null,
            "min_height": null,
            "min_width": null,
            "object_fit": null,
            "object_position": null,
            "order": null,
            "overflow": null,
            "overflow_x": null,
            "overflow_y": null,
            "padding": null,
            "right": null,
            "top": null,
            "visibility": null,
            "width": null
          }
        },
        "7aaa04e028f34953b34a9a8905c99748": {
          "model_module": "@jupyter-widgets/base",
          "model_module_version": "1.2.0",
          "model_name": "LayoutModel",
          "state": {
            "_model_module": "@jupyter-widgets/base",
            "_model_module_version": "1.2.0",
            "_model_name": "LayoutModel",
            "_view_count": null,
            "_view_module": "@jupyter-widgets/base",
            "_view_module_version": "1.2.0",
            "_view_name": "LayoutView",
            "align_content": null,
            "align_items": null,
            "align_self": null,
            "border": null,
            "bottom": null,
            "display": null,
            "flex": null,
            "flex_flow": null,
            "grid_area": null,
            "grid_auto_columns": null,
            "grid_auto_flow": null,
            "grid_auto_rows": null,
            "grid_column": null,
            "grid_gap": null,
            "grid_row": null,
            "grid_template_areas": null,
            "grid_template_columns": null,
            "grid_template_rows": null,
            "height": null,
            "justify_content": null,
            "justify_items": null,
            "left": null,
            "margin": null,
            "max_height": null,
            "max_width": null,
            "min_height": null,
            "min_width": null,
            "object_fit": null,
            "object_position": null,
            "order": null,
            "overflow": null,
            "overflow_x": null,
            "overflow_y": null,
            "padding": null,
            "right": null,
            "top": null,
            "visibility": null,
            "width": null
          }
        },
        "96e5f4f0756d4c699dcb30b5fdf9ec3b": {
          "model_module": "@jupyter-widgets/controls",
          "model_module_version": "1.5.0",
          "model_name": "HBoxModel",
          "state": {
            "_dom_classes": [],
            "_model_module": "@jupyter-widgets/controls",
            "_model_module_version": "1.5.0",
            "_model_name": "HBoxModel",
            "_view_count": null,
            "_view_module": "@jupyter-widgets/controls",
            "_view_module_version": "1.5.0",
            "_view_name": "HBoxView",
            "box_style": "",
            "children": [
              "IPY_MODEL_d85d0d132b6f416bbef04badf3ea995f",
              "IPY_MODEL_bdfe4cb80a714243bfd74c69cc64be0b",
              "IPY_MODEL_37efbb5e22684840aa988c0e23663136"
            ],
            "layout": "IPY_MODEL_53087f1045234fe6bc49e467e9f85f50"
          }
        },
        "ae54e59833114fb8b4ea13126bc25a1b": {
          "model_module": "@jupyter-widgets/controls",
          "model_module_version": "1.5.0",
          "model_name": "ProgressStyleModel",
          "state": {
            "_model_module": "@jupyter-widgets/controls",
            "_model_module_version": "1.5.0",
            "_model_name": "ProgressStyleModel",
            "_view_count": null,
            "_view_module": "@jupyter-widgets/base",
            "_view_module_version": "1.2.0",
            "_view_name": "StyleView",
            "bar_color": null,
            "description_width": ""
          }
        },
        "bdfe4cb80a714243bfd74c69cc64be0b": {
          "model_module": "@jupyter-widgets/controls",
          "model_module_version": "1.5.0",
          "model_name": "FloatProgressModel",
          "state": {
            "_dom_classes": [],
            "_model_module": "@jupyter-widgets/controls",
            "_model_module_version": "1.5.0",
            "_model_name": "FloatProgressModel",
            "_view_count": null,
            "_view_module": "@jupyter-widgets/controls",
            "_view_module_version": "1.5.0",
            "_view_name": "ProgressView",
            "bar_style": "success",
            "description": "",
            "description_tooltip": null,
            "layout": "IPY_MODEL_4828f836fb2642f6bafd14ba7b69ae49",
            "max": 167502836,
            "min": 0,
            "orientation": "horizontal",
            "style": "IPY_MODEL_ae54e59833114fb8b4ea13126bc25a1b",
            "value": 167502836
          }
        },
        "d85d0d132b6f416bbef04badf3ea995f": {
          "model_module": "@jupyter-widgets/controls",
          "model_module_version": "1.5.0",
          "model_name": "HTMLModel",
          "state": {
            "_dom_classes": [],
            "_model_module": "@jupyter-widgets/controls",
            "_model_module_version": "1.5.0",
            "_model_name": "HTMLModel",
            "_view_count": null,
            "_view_module": "@jupyter-widgets/controls",
            "_view_module_version": "1.5.0",
            "_view_name": "HTMLView",
            "description": "",
            "description_tooltip": null,
            "layout": "IPY_MODEL_7aaa04e028f34953b34a9a8905c99748",
            "placeholder": "​",
            "style": "IPY_MODEL_fbdc947106b340f28128429aa79e1c2b",
            "value": "100%"
          }
        },
        "e767c44bb5a646f9974615703e6ecdda": {
          "model_module": "@jupyter-widgets/controls",
          "model_module_version": "1.5.0",
          "model_name": "DescriptionStyleModel",
          "state": {
            "_model_module": "@jupyter-widgets/controls",
            "_model_module_version": "1.5.0",
            "_model_name": "DescriptionStyleModel",
            "_view_count": null,
            "_view_module": "@jupyter-widgets/base",
            "_view_module_version": "1.2.0",
            "_view_name": "StyleView",
            "description_width": ""
          }
        },
        "fbdc947106b340f28128429aa79e1c2b": {
          "model_module": "@jupyter-widgets/controls",
          "model_module_version": "1.5.0",
          "model_name": "DescriptionStyleModel",
          "state": {
            "_model_module": "@jupyter-widgets/controls",
            "_model_module_version": "1.5.0",
            "_model_name": "DescriptionStyleModel",
            "_view_count": null,
            "_view_module": "@jupyter-widgets/base",
            "_view_module_version": "1.2.0",
            "_view_name": "StyleView",
            "description_width": ""
          }
        }
      }
    }
  },
  "nbformat": 4,
  "nbformat_minor": 0
}
